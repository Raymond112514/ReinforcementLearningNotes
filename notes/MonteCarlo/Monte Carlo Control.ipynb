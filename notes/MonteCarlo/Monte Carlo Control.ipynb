{
 "cells": [
  {
   "cell_type": "markdown",
   "id": "9da53f27",
   "metadata": {},
   "source": [
    "# Monte Carlo control"
   ]
  },
  {
   "cell_type": "code",
   "execution_count": 1,
   "id": "a7d6daab",
   "metadata": {},
   "outputs": [],
   "source": [
    "!pip -q install gym\n",
    "\n",
    "import numpy as np\n",
    "import matplotlib.pyplot as plt\n",
    "import gym\n",
    "import itertools\n",
    "from MonteCarlo import *\n",
    "import copy"
   ]
  },
  {
   "cell_type": "code",
   "execution_count": 2,
   "id": "48f2cb44",
   "metadata": {},
   "outputs": [],
   "source": [
    "env = gym.make('Blackjack-v1', natural=False, sab=False)"
   ]
  },
  {
   "cell_type": "markdown",
   "id": "468d32ad",
   "metadata": {},
   "source": [
    "## Monte Carlo with exploring starts"
   ]
  },
  {
   "cell_type": "code",
   "execution_count": 3,
   "id": "e1b7c4d0",
   "metadata": {},
   "outputs": [],
   "source": [
    "player_sum_range = range(32)       \n",
    "dealer_card_range = range(1, 11)   \n",
    "usable_ace_range = [True, False]\n",
    "\n",
    "states = list(itertools.product(player_sum_range, dealer_card_range, usable_ace_range))\n",
    "actions = [0, 1]"
   ]
  },
  {
   "cell_type": "code",
   "execution_count": 9,
   "id": "46e88c3c",
   "metadata": {},
   "outputs": [],
   "source": [
    "def sample_fn(policy, max_len):\n",
    "    def sample():\n",
    "        trajectory = {}\n",
    "        obs, _ = env.reset()\n",
    "        for t in range(max_len):\n",
    "            action = policy(obs)\n",
    "            obs_, reward, done, info = env.step(action)[:4]\n",
    "            trajectory[(obs, action)] = reward\n",
    "            obs = obs_\n",
    "            if done:\n",
    "                break\n",
    "        return trajectory\n",
    "    return sample"
   ]
  },
  {
   "cell_type": "code",
   "execution_count": 21,
   "id": "7dd11f00",
   "metadata": {},
   "outputs": [],
   "source": [
    "class MonteCarloControl:\n",
    "    \"\"\"\n",
    "    Monte Carlo method for estimating the Q value functions.\n",
    "    The implementation is similar to the case of value function, except for small twists in the estimate function\n",
    "    \"\"\"\n",
    "    def __init__(self, states, actions):\n",
    "        \"\"\" \n",
    "        states: a list of possible states\n",
    "        actions: a list of possible actions\n",
    "        \"\"\"\n",
    "        self.states = states\n",
    "        self.actions = actions\n",
    "        \n",
    "    def estimate(self, policy, max_iter, gamma=1, every_visit=False):\n",
    "        \"\"\" \n",
    "        Estimates the Q value function\n",
    "        max_iter: number of trajectories used\n",
    "        gamma: discount factor\n",
    "        every_visit: Uses every visit Monte Carlo if True, else uses first visit Monte Carlo\n",
    "        \"\"\"\n",
    "        sample = sample_fn(policy, 100)\n",
    "        value = {state: {action: 0 for action in self.actions} for state in self.states}\n",
    "        count = {state: {action: 0 for action in self.actions} for state in self.states}\n",
    "        for i in range(max_iter):\n",
    "            policy_dict = {state: policy(state) for state in self.states}\n",
    "            episode = sample()\n",
    "            cum_reward = 0\n",
    "            for t, (state_action, reward) in enumerate(list(episode.items())[::-1]):\n",
    "                state, action = state_action\n",
    "                t = len(episode) - t - 1\n",
    "                cum_reward += gamma * reward\n",
    "                if every_visit or state not in self.states[:t]:\n",
    "                    count[state][action] += 1\n",
    "                    value[state][action] = value[state][action] + (cum_reward - value[state][action]) / count[state][action]  \n",
    "                    policy_dict[state] = max(value[state], key=value[state].get)\n",
    "            policy = lambda state: policy_dict[state]\n",
    "        return value, policy"
   ]
  },
  {
   "cell_type": "code",
   "execution_count": 22,
   "id": "918b89f4",
   "metadata": {},
   "outputs": [],
   "source": [
    "montecarlo = MonteCarloControl(states, actions)\n",
    "policy = lambda state: 1 if state[0] < 20 else 0\n",
    "value, optimal_policy = montecarlo.estimate(policy, 100000, True)"
   ]
  },
  {
   "cell_type": "code",
   "execution_count": 23,
   "id": "5ee90ce1",
   "metadata": {},
   "outputs": [],
   "source": [
    "true_states = [state for state in states if state[-1] is True]\n",
    "xy = []\n",
    "action = []\n",
    "for state in true_states:\n",
    "    xy.append(state[:2])\n",
    "    action.append(optimal_policy(state))\n",
    "xy = np.array(xy)"
   ]
  },
  {
   "cell_type": "code",
   "execution_count": 24,
   "id": "de13ce84",
   "metadata": {},
   "outputs": [
    {
     "data": {
      "image/png": "[encoded data removed]",
      "text/plain": [
       "<Figure size 640x480 with 1 Axes>"
      ]
     },
     "metadata": {},
     "output_type": "display_data"
    }
   ],
   "source": [
    "for label in np.unique(action):\n",
    "    indices = action == label\n",
    "    plt.scatter(xy[indices, 0], xy[indices, 1], label=f'Label {label}')\n",
    "\n",
    "plt.xlabel('Player hand')\n",
    "plt.ylabel('Dealer hand')\n",
    "plt.title('Optimal strategy')\n",
    "plt.legend()\n",
    "plt.show()"
   ]
  },
  {
   "cell_type": "markdown",
   "id": "25a637f9",
   "metadata": {},
   "source": [
    "## Monte Carlo with stochastic policies"
   ]
  },
  {
   "cell_type": "code",
   "execution_count": 28,
   "id": "af856bfc",
   "metadata": {},
   "outputs": [],
   "source": [
    "def randomize(policy, actions, epsilon):\n",
    "    def randomized_policy(state):\n",
    "        if np.random.randn() < epsilon / len(actions):\n",
    "            return np.random.choice(actions)\n",
    "        return policy(state)\n",
    "    return randomized_policy"
   ]
  },
  {
   "cell_type": "code",
   "execution_count": 36,
   "id": "ea937b0f",
   "metadata": {},
   "outputs": [],
   "source": [
    "class MonteCarloControl:\n",
    "    \"\"\"\n",
    "    Monte Carlo method for estimating the Q value functions.\n",
    "    The implementation is similar to the case of value function, except for small twists in the estimate function\n",
    "    \"\"\"\n",
    "    def __init__(self, states, actions):\n",
    "        \"\"\" \n",
    "        states: a list of possible states\n",
    "        actions: a list of possible actions\n",
    "        \"\"\"\n",
    "        self.states = states\n",
    "        self.actions = actions\n",
    "        \n",
    "    def estimate(self, policy, max_iter, gamma=1, every_visit=False):\n",
    "        \"\"\" \n",
    "        Estimates the Q value function\n",
    "        max_iter: number of trajectories used\n",
    "        gamma: discount factor\n",
    "        every_visit: Uses every visit Monte Carlo if True, else uses first visit Monte Carlo\n",
    "        \"\"\"\n",
    "        sample = sample_fn(policy, 100)\n",
    "        value = {state: {action: 0 for action in self.actions} for state in self.states}\n",
    "        count = {state: {action: 0 for action in self.actions} for state in self.states}\n",
    "        for i in range(max_iter):\n",
    "            policy_dict = {state: randomize(policy, self.actions, epsilon=0.1)(state) for state in self.states}\n",
    "            episode = sample()\n",
    "            cum_reward = 0\n",
    "            for t, (state_action, reward) in enumerate(list(episode.items())[::-1]):\n",
    "                state, action = state_action\n",
    "                t = len(episode) - t - 1\n",
    "                cum_reward += gamma * reward\n",
    "                if every_visit or state not in self.states[:t]:\n",
    "                    count[state][action] += 1\n",
    "                    value[state][action] = value[state][action] + (cum_reward - value[state][action]) / count[state][action]  \n",
    "                    policy_dict[state] = max(value[state], key=value[state].get)\n",
    "            policy = lambda state: policy_dict[state]\n",
    "        return policy"
   ]
  },
  {
   "cell_type": "code",
   "execution_count": 38,
   "id": "aacbe95f",
   "metadata": {},
   "outputs": [],
   "source": [
    "montecarlo = MonteCarloControl(states, actions)\n",
    "policy = lambda state: 1 if state[0] < 20 else 0\n",
    "optimal_policy = montecarlo.estimate(policy, 100000)"
   ]
  },
  {
   "cell_type": "code",
   "execution_count": 39,
   "id": "6935d026",
   "metadata": {},
   "outputs": [],
   "source": [
    "true_states = [state for state in states if state[-1] is True]\n",
    "xy = []\n",
    "action = []\n",
    "for state in true_states:\n",
    "    xy.append(state[:2])\n",
    "    action.append(optimal_policy(state))\n",
    "xy = np.array(xy)"
   ]
  },
  {
   "cell_type": "code",
   "execution_count": 40,
   "id": "33b919b7",
   "metadata": {},
   "outputs": [
    {
     "data": {
      "image/png": "[encoded data removed]",
      "text/plain": [
       "<Figure size 640x480 with 1 Axes>"
      ]
     },
     "metadata": {},
     "output_type": "display_data"
    }
   ],
   "source": [
    "for label in np.unique(action):\n",
    "    indices = action == label\n",
    "    plt.scatter(xy[indices, 0], xy[indices, 1], label=f'Label {label}')\n",
    "\n",
    "plt.xlabel('Player hand')\n",
    "plt.ylabel('Dealer hand')\n",
    "plt.title('Optimal strategy')\n",
    "plt.legend()\n",
    "plt.show()"
   ]
  },
  {
   "cell_type": "code",
   "execution_count": null,
   "id": "6fce4786",
   "metadata": {},
   "outputs": [],
   "source": []
  }
 ],
 "metadata": {
  "kernelspec": {
   "display_name": "Python 3 (ipykernel)",
   "language": "python",
   "name": "python3"
  },
  "language_info": {
   "codemirror_mode": {
    "name": "ipython",
    "version": 3
   },
   "file_extension": ".py",
   "mimetype": "text/x-python",
   "name": "python",
   "nbconvert_exporter": "python",
   "pygments_lexer": "ipython3",
   "version": "3.10.9"
  }
 },
 "nbformat": 4,
 "nbformat_minor": 5
}
