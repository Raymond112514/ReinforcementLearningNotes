{
 "cells": [
  {
   "cell_type": "markdown",
   "id": "b47f4519",
   "metadata": {},
   "source": [
    "# Theoretic analysis"
   ]
  },
  {
   "cell_type": "markdown",
   "id": "955f533a",
   "metadata": {},
   "source": [
    "In the previous section, we solve for the optimal value function $V^*(s)$ according to the update\n",
    "\n",
    "$$V_{k+1}(s) \\leftarrow \\max_a \\sum_{s'} p(s'|s, a)[r_0+\\gamma V_k(s)]$$\n",
    "\n",
    "It is important to show that such algorithm indeed converges to the optimal value function $V^*(s)$. To prove convergence, we introduce the Bellman operator $\\mathcal{T}:\\mathbb{R}^{|\\mathcal{S}|}\\rightarrow :\\mathbb{R}^{|\\mathcal{S}|}$. For any value function $V\\in \\mathbb{R}^{|\\mathcal{S}|}$, define\n",
    "\n",
    "$$\\mathcal{T} V(s) = \\max_a \\sum_{s'} p(s'|s, a)[r_0+\\gamma V(s')]$$\n",
    "\n",
    "And therefore $\\mathcal{T} V$ is a vector in $\\mathbb{R}^{|\\mathcal{S}|}$. Using this notation, we can compactly rewrite the value iteration update as \n",
    "\n",
    "$$V_{k+1} = \\mathcal{T}V_k$$\n",
    "\n",
    "We now that that as $k\\to\\infty$, $V_k$ converges to the optimal value function $V^*$. We first show that $\\mathcal{T}$ is a contraction mapping\n",
    "\n",
    "````{prf:theorem} \n",
    ":label: my-theorem\n",
    "\n",
    "$\\mathcal{T}$ is a contraction mapping under the sup-norm. In other words, given any two value function $U, V\\in \\mathbb{R}^{|\\mathcal{S}|}$, there exists $\\gamma\\in (0,1)$ such that\n",
    "\n",
    "$$||\\mathcal{T}U-\\mathcal{T}V||_{\\infty} \\leq \\gamma||U-V||_{\\infty}$$\n",
    "````\n",
    "\n",
    "\n",
    "````{prf:proof}\n",
    "\n",
    "We check this directly\n",
    "\n",
    "$$\n",
    "\\begin{align*}\n",
    "    ||\\mathcal{T}U(s)-\\mathcal{T}V(s)||_{\\infty} &= \\max_s|\\max_a \\sum_{s'} p(s'|s, a)[r_0+\\gamma V(s)] - \\max_a \\sum_{s'} p(s'|s, a)[r_0+\\gamma U(s)]|\\\\\n",
    "    &\\leq \\gamma\\max_{s, a} |\\sum_{s'} p(s'|s, a) (V(s)-U(s))|\\\\\n",
    "    &\\leq \\gamma \\bigg(\\sum_{s'} p(s'|s, a)\\bigg) \\max_s |V(s)-U(s)|\\\\\n",
    "    &\\leq \\gamma||U-V||_{\\infty}\n",
    "\\end{align*}\n",
    "$$\n",
    "````\n",
    "\n",
    "After proving Bellman operator is a contraction mapping, the remains follows from the standard fixed point theorem. \n",
    "\n",
    "````{prf:theorem} \n",
    ":label: my-theorem\n",
    "\n",
    "Let $V_k$ be the updates defined by the Bellman operator, then\n",
    "\n",
    "$$\\lim_{k\\to\\infty} V_k = V^*$$\n",
    "````\n",
    "\n",
    "````{prf:proof}\n",
    "First, note that by the Bellman optimality equation, $V^*$ is a fixed point of the Bellman operator and that\n",
    "$$||V_k-V^*||_{\\infty}\\leq \\gamma ||V_{k-1}-V^*||_{\\infty}\\leq \\cdots \\leq \\gamma^k||V_0-V^*||_{\\infty}$$\n",
    "\n",
    "Since $\\gamma\\in (0,1)$, we have that \n",
    "\n",
    "$$\\lim_{k\\to\\infty} ||V_k-V^*||_{\\infty} = 0\\implies \\lim_{k\\to\\infty} V_k = V^*$$\n",
    "````\n",
    "\n",
    "This proves that value iteration indeed converges. "
   ]
  },
  {
   "cell_type": "code",
   "execution_count": null,
   "id": "8f07e19c",
   "metadata": {},
   "outputs": [],
   "source": []
  }
 ],
 "metadata": {
  "kernelspec": {
   "display_name": "Python 3 (ipykernel)",
   "language": "python",
   "name": "python3"
  },
  "language_info": {
   "codemirror_mode": {
    "name": "ipython",
    "version": 3
   },
   "file_extension": ".py",
   "mimetype": "text/x-python",
   "name": "python",
   "nbconvert_exporter": "python",
   "pygments_lexer": "ipython3",
   "version": "3.10.9"
  }
 },
 "nbformat": 4,
 "nbformat_minor": 5
}