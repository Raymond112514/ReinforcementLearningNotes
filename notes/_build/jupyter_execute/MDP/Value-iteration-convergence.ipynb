{
 "cells": [
  {
   "cell_type": "markdown",
   "id": "b47f4519",
   "metadata": {},
   "source": [
    "# Convergence analysis"
   ]
  },
  {
   "cell_type": "markdown",
   "id": "955f533a",
   "metadata": {},
   "source": [
    "Recall that we estimate the optimal value function $V^*(\\mathbf{s})$ according to the update\n",
    "\n",
    "$$V_{k+1}(\\mathbf{s}) \\leftarrow \\max_{\\mathbf{a}\\in \\mathcal{A}} \\sum_{\\mathbf{s}'} p(\\mathbf{s}'|\\mathbf{s}, \\mathbf{a})[r_0+\\gamma V_k(\\mathbf{s})]$$\n",
    "\n",
    "We now show that the value iteration algorithm indeed converges to the optimal value function $V^*(\\mathbf{s})$. To prove convergence, we introduce the Bellman operator $\\mathcal{T}:\\mathbb{R}^{|\\mathcal{S}|}\\rightarrow :\\mathbb{R}^{|\\mathcal{S}|}$. For any value function $V\\in \\mathbb{R}^{|\\mathcal{S}|}$, define\n",
    "\n",
    "$$\\mathcal{T} V(\\mathbf{s}) = \\sum_{\\mathbf{s}'} p(\\mathbf{s}'|\\mathbf{s}, \\mathbf{a})[r_0+\\gamma V(\\mathbf{s})]$$\n",
    "\n",
    "Which means that $\\mathcal{T} V$ is a vector in $\\mathbb{R}^{|\\mathcal{S}|}$. Using this notation, the value iteration algorithm can be compactly represented as \n",
    "\n",
    "$$V_{k+1} = \\mathcal{T}V_k$$\n",
    "\n",
    "We want to prove that as $k\\to\\infty$, $V_k$ converges to the optimal value function $V^*$. Before that, we first show that $\\mathcal{T}$ is a contraction mapping.\n",
    "````{prf:theorem} \n",
    ":label: my-theorem\n",
    "\n",
    "$\\mathcal{T}$ is a contraction mapping under the sup-norm. In other words, given any two value function $U, V\\in \\mathbb{R}^{|\\mathcal{S}|}$, there exists $\\gamma\\in (0,1)$ such that\n",
    "\n",
    "$$||\\mathcal{T}U-\\mathcal{T}V||_{\\infty} \\leq \\gamma||U-V||_{\\infty}$$\n",
    "````\n",
    "\n",
    "\n",
    "````{prf:proof}\n",
    "\n",
    "We check this directly\n",
    "\n",
    "$$\n",
    "\\begin{align*}\n",
    "    ||\\mathcal{T}U(\\mathbf{s})-\\mathcal{T}V(\\mathbf{s})||_{\\infty} &= \\max_\\mathbf{s}|\\max_\\mathbf{a} \\sum_{\\mathbf{s}'} p(\\mathbf{s}'|\\mathbf{s}, \\mathbf{a})[r_0+\\gamma V(\\mathbf{s})] - \\max_\\mathbf{a} \\sum_{\\mathbf{s}'} p(\\mathbf{s}'|\\mathbf{s}, \\mathbf{s})[r_0+\\gamma U(\\mathbf{s})]|\\\\\n",
    "    &\\leq \\gamma\\max_{\\mathbf{s}, \\mathbf{a}} |\\sum_{\\mathbf{s}'} p(\\mathbf{s}'|\\mathbf{s}, \\mathbf{a}) (V(\\mathbf{s})-U(\\mathbf{s}))|\\\\\n",
    "    &\\leq \\gamma \\bigg(\\sum_{\\mathbf{s}'} p(\\mathbf{s}'|\\mathbf{s}, \\mathbf{a})\\bigg) \\max_\\mathbf{s} |V(\\mathbf{s})-U(\\mathbf{s})|\\\\\n",
    "    &\\leq \\gamma||U-V||_{\\infty}\n",
    "\\end{align*}\n",
    "$$\n",
    "````\n",
    "\n",
    "With the result above, the remains follows from the standard fixed point theorem. \n",
    "````{prf:theorem} Value iteration convergence\n",
    ":label: my-theorem\n",
    "\n",
    "Let $V_k$ be the updates defined by the Bellman operator, then\n",
    "\n",
    "$$\\lim_{k\\to\\infty} V_k = V^*$$\n",
    "````\n",
    "\n",
    "````{prf:proof}\n",
    "First, note that by the Bellman optimality equation, $V^*$ is a fixed point of the Bellman operator and that\n",
    "$$||V_k-V^*||_{\\infty}\\leq \\gamma ||V_{k-1}-V^*||_{\\infty}\\leq \\cdots \\leq \\gamma^k||V_0-V^*||_{\\infty}$$\n",
    "\n",
    "Since $\\gamma\\in (0,1)$, we have that \n",
    "\n",
    "$$\\lim_{k\\to\\infty} ||V_k-V^*||_{\\infty} = 0\\implies \\lim_{k\\to\\infty} V_k = V^*$$\n",
    "````"
   ]
  }
 ],
 "metadata": {
  "kernelspec": {
   "display_name": "Python 3 (ipykernel)",
   "language": "python",
   "name": "python3"
  },
  "language_info": {
   "codemirror_mode": {
    "name": "ipython",
    "version": 3
   },
   "file_extension": ".py",
   "mimetype": "text/x-python",
   "name": "python",
   "nbconvert_exporter": "python",
   "pygments_lexer": "ipython3",
   "version": "3.10.9"
  }
 },
 "nbformat": 4,
 "nbformat_minor": 5
}