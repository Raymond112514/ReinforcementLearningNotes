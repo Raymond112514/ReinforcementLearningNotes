{
 "cells": [
  {
   "cell_type": "markdown",
   "metadata": {
    "id": "6gM5c9TW4edi"
   },
   "source": [
    "# Trust region policy optimization"
   ]
  },
  {
   "cell_type": "markdown",
   "metadata": {},
   "source": [
    "Let $\\pi$ denote a stochastic policy, and let $\\eta(\\pi)$ represent its expected reward, given by\n",
    "\n",
    "$$\n",
    "\\eta(\\pi) = \\mathbb{E}_{\\tau \\sim p_{\\pi}(\\tau)} \\left[ \\sum_{t \\geq 0} \\gamma^t r_t \\right].\n",
    "$$\n",
    "\n",
    "Suppose we make an update from $\\pi$ to $\\tilde{\\pi}$. The new expected reward can be expressed in terms of the old expected reward as follows:\n",
    "\n",
    "$$\n",
    "\\begin{align*}\n",
    "\\eta(\\tilde{\\pi}) &= \\eta(\\pi) + \\mathbb{E}_{\\tau \\sim p_{\\tilde{\\pi}}(\\tau)} \\left[ \\sum_{t \\geq 0} \\gamma^t A_{\\pi}(\\mathbf{s}_t, \\mathbf{a}_t) \\right] \\\\\n",
    "&= \\eta(\\pi) + \\sum_{t \\geq 0} \\sum_{s \\in \\mathcal{S}} p(\\mathbf{s}_t = \\mathbf{s} \\mid \\tilde{\\pi}) \\sum_{a \\in \\mathcal{A}} \\tilde{\\pi}(\\mathbf{a} \\mid \\mathbf{s}) \\gamma^t A_{\\pi}(\\mathbf{s}, \\mathbf{a}) \\\\\n",
    "&= \\eta(\\pi) + \\sum_{s \\in \\mathcal{S}} \\sum_{t \\geq 0} \\gamma^t p(\\mathbf{s}_t = \\mathbf{s} \\mid \\tilde{\\pi}) \\sum_{a \\in \\mathcal{A}} \\tilde{\\pi}(\\mathbf{a} \\mid \\mathbf{s}) A_{\\pi}(\\mathbf{s}, \\mathbf{a}) \\\\\n",
    "&= \\eta(\\pi) + \\sum_{s \\in \\mathcal{S}} \\rho_{\\tilde{\\pi}}(\\mathbf{s}) \\sum_{a \\in \\mathcal{A}} \\tilde{\\pi}(\\mathbf{a} \\mid \\mathbf{s}) A_{\\pi}(\\mathbf{s}, \\mathbf{a}),\n",
    "\\end{align*}\n",
    "$$\n",
    "\n",
    "where $\\rho_{\\tilde{\\pi}}$ denotes the discounted visitation frequency:\n",
    "\n",
    "$$\n",
    "\\rho_{\\tilde{\\pi}}(\\mathbf{s}) = \\sum_{t \\geq 0} \\gamma^t p(\\mathbf{s}_t = \\mathbf{s} \\mid \\tilde{\\pi}).\n",
    "$$\n",
    "\n",
    "This suggests that, given a current policy $\\pi$, to make an update, we can try to find $\\tilde{\\pi}$ that maximizes the expression above. However, optimizing this directly can be challenging. Instead, we use the following approximation:\n",
    "\n",
    "$$\n",
    "\\mathcal{L}_{\\pi}(\\tilde{\\pi}) = \\eta(\\pi) + \\sum_{s \\in \\mathcal{S}} \\rho_{\\pi}(\\mathbf{s}) \\sum_{a \\in \\mathcal{A}} \\tilde{\\pi}(\\mathbf{a} \\mid \\mathbf{s}) A_{\\pi}(\\mathbf{s}, \\mathbf{a}),\n",
    "$$\n",
    "\n",
    "where we replace the visitation frequency of the new policy with that of the old policy. This approximation is accurate in the sense that it matches $\\eta$ to first order:\n",
    "\n",
    "$$\n",
    "\\begin{align*}\n",
    "\\mathcal{L}_{\\pi_{\\theta_0}} (\\pi_{\\theta_0}) &= \\eta(\\pi_{\\theta_0}), \\\\\n",
    "\\nabla_{\\theta} \\mathcal{L}_{\\pi_{\\theta_0}} (\\pi_{\\theta}) \\bigg|_{\\theta = \\theta_0} &= \\nabla_{\\theta} \\eta (\\pi_{\\theta}) \\bigg|_{\\theta = \\theta_0}.\n",
    "\\end{align*}\n",
    "$$\n",
    "\n",
    "This means that optimizing $\\mathcal{L}_{\\pi}$ will improve the expected reward $\\eta$ as long as the step size isn't too large. However, it remains unclear how small the step size should be. In 2017, Schulman et al., in their paper \"Trust Region Policy Optimization,\" proved the following bound that provides insights into how different step sizes influence the expected reward.\n",
    "\n",
    "````{prf:theorem} Improvement bound\n",
    ":label: my-theorem\n",
    "\n",
    "Let \n",
    "\n",
    "$$\\alpha=D_{TV}^{\\text{max}}(\\pi_{old}, \\pi_{new})=\\max_{\\mathbf{s}\\in \\mathcal{S}} D_{TV}(\\pi_{old}(\\cdot|\\mathbf{s})||\\pi_{new}(\\cdot|\\mathbf{s}))$$\n",
    "\n",
    "Then we have \n",
    "\n",
    "$$\\eta(\\pi_{new}) \\geq \\mathcal{L}_{\\pi_{old}}(\\pi_{new}) - \\frac{4\\epsilon\\gamma}{(1-\\gamma)^2}\\alpha^2$$\n",
    "\n",
    "Where $\\epsilon = \\max_{\\mathbf{s}, \\mathbf{a}}|A_{\\pi}(\\mathbf{s}, \\mathbf{a})|$\n",
    "````\n",
    "\n",
    "````{prf:proof}\n",
    "To be added\n",
    "````\n",
    "\n",
    "The above theorem suggests that if the step size, measured in total variation distance, is small, then $\\mathcal{L}_{\\pi}$ is a tight lower bound of the original objective. We can also use a different distance measure, for example, the KL-divergence. Using the fact that $D_{KL}(p||q)^2\\leq D_{KL}(p||q)$, we have\n",
    "\n",
    "$$\\eta(\\pi_{new}) \\geq \\mathcal{L}_{\\pi_{old}}(\\pi_{new}) - CD_{KL}^{\\text{max}}(\\pi_{old}, \\pi_{new}) \\hspace{5mm}\\text{where}\\hspace{5mm} C= \\frac{4\\epsilon \\gamma}{(1-\\gamma)^2}$$\n",
    "\n",
    "This lower bound motivates a policy iteration-like algorithm that generates a sequence of monotonically improving policies, as shown in the pseudocode below. \n",
    "\n",
    "```{prf:algorithm} Policy iteration algorithm\n",
    ":label: my-theorem\n",
    "\n",
    "**Inputs** Initialized policy $\\pi_0$\n",
    "\n",
    "1. For $i=1, 2,...$ until convergence:\n",
    "\t1. Estimate advantage function $A_{\\pi_i}(\\mathbf{s}, \\mathbf{a})$\n",
    "\t2. Update policy by solving the optimization problem\n",
    "    \n",
    "    $$\\pi_{i+1} = \\underset{\\pi}{\\text{argmax}}\\;\\mathcal{L}_{\\pi_i}(\\pi) - CD_{KL}^{\\text{max}}(\\pi_{i}, \\pi)$$\n",
    "```\n",
    "\n",
    "To see why the above algorithm generates monotonically improving policy, let $M_i(\\pi)=\\mathcal{L}_{\\pi_i}(\\pi) - CD_{KL}^{\\text{max}}(\\pi_{i}, \\pi)$, then by definition $\\eta(\\pi_{i+1})\\geq M_i(\\pi_{i+1})$. Since $\\mathcal{L}_{\\pi}$ matches $\\eta$ to first order, we also have $\\eta(\\pi_i) = M_i(\\pi_i)$. This suggests that\n",
    "\n",
    "$$\\eta(\\pi_{i+1}) - \\eta(\\pi_i) \\geq M_i(\\pi_{i+1}) - M_i(\\pi_i)\\geq 0$$\n",
    "\n",
    "Even though the algorithm above is theoretically sound, solving the optimization problem in practice can be challenging. Therefore, it is often necessary to approximate the function to make the problem tractable."
   ]
  },
  {
   "cell_type": "markdown",
   "metadata": {},
   "source": [
    "## Natural policy gradient"
   ]
  },
  {
   "cell_type": "markdown",
   "metadata": {},
   "source": [
    "We now replace the policies $\\pi$ with their corresponding parameters $\\theta$ in the notation above. Solving the optimization problem directly \n",
    "\n",
    "$$\\max_{\\theta}\\;\\mathcal{L}_{\\theta_{old}}(\\theta) - CD_{KL}^{\\text{max}}(\\theta_{old},\\theta)$$\n",
    "\n",
    "in practice usally results in small update, to make more larger and more robust updates, the authors proposed solving \n",
    "\n",
    "$$\\max_{\\theta}\\;\\mathcal{L}_{\\theta_{old}}(\\theta)\\hspace{5mm}\\text{subject to}\\hspace{5mm}D_{KL}^{\\text{max}}(\\theta_{old},\\theta)\\leq \\delta$$\n",
    "\n",
    "We will now discuss two simplifications to the optimization problem."
   ]
  },
  {
   "cell_type": "markdown",
   "metadata": {},
   "source": [
    "### 1. Average KL divergence"
   ]
  },
  {
   "cell_type": "markdown",
   "metadata": {},
   "source": [
    "In the optimization problem above, we need to ensure that the KL divergence on each state $\\mathbf{s}\\in \\mathcal{S}$ is smaller than $\\delta$. This is intractable when the state space is large (lots of constraints!). TO address this, the authors proposed using average KL-divergence\n",
    "\n",
    "$$\\overline{D}_{KL}^{\\rho}(\\theta_1, \\theta_2) = \\mathbb{E}_{\\mathbf{s}\\sim \\rho}[D_{KL}(\\pi_{\\theta_1}(\\cdot|\\mathbf{s})||\\pi_{\\theta_2}(\\cdot|\\mathbf{s}))] \\approx \\frac{1}{N}\\sum_{i=1}^N D_{KL}(\\pi_{\\theta_1}(\\cdot|\\mathbf{s}_i)||\\pi_{\\theta_2}(\\cdot|\\mathbf{s}_i))$$\n",
    "\n",
    "This is now managable since we can compute it using trajectory samples. "
   ]
  },
  {
   "cell_type": "markdown",
   "metadata": {},
   "source": [
    "### 2. Linearize objective and constraint"
   ]
  },
  {
   "cell_type": "markdown",
   "metadata": {},
   "source": [
    "The second simplification we can make is to linearize both objective and constraint, this gives us\n",
    "\n",
    "$$\n",
    "\\begin{align*}\n",
    "&\\mathcal{L}_{\\theta_k}(\\theta) \\approx \\mathcal{L}_{\\theta_k}(\\theta_k) + g^T (\\theta-\\theta_k)+...\\\\\n",
    "&\\overline{D}_{KL}(\\theta, \\theta_k) \\approx \\overline{D}_{KL}(\\theta_k, \\theta_k) +\\nabla_{\\theta} \\overline{D}_{KL}(\\theta, \\theta_k)|_{\\theta=\\theta_k}(\\theta-\\theta_k) + \\frac{1}{2}(\\theta-\\theta_k)^TH(\\theta-\\theta_k)+...\n",
    "\\end{align*}\n",
    "$$\n",
    "\n",
    "Where $g$ denote the gradient of $\\mathcal{L}_{\\theta_k}$ and $H$ denote the Hessian matrix of the KL-divergence term. Some of these terms of zero, simplifying gives us\n",
    "\n",
    "$$\n",
    "\\begin{align*}\n",
    "&\\mathcal{L}_{\\theta_k}(\\theta) \\approx g^T (\\theta-\\theta_k)\\\\\n",
    "&\\overline{D}_{KL}(\\theta, \\theta_k) \\approx  \\frac{1}{2}(\\theta-\\theta_k)^TH(\\theta-\\theta_k)\n",
    "\\end{align*}\n",
    "$$\n",
    "\n",
    "Now our optimization becomes\n",
    "\n",
    "$$\\max_{\\theta}\\;g^T (\\theta-\\theta_k) \\hspace{5mm}\\text{subject to}\\hspace{5mm} \\frac{1}{2}(\\theta-\\theta_k)^TH(\\theta-\\theta_k)\\leq \\delta$$\n",
    "\n",
    "This is a linear programming problem with quadratic constraint! It can be solved analytically\n",
    "\n",
    "$$\\theta_{k+1} = \\theta_{k} + \\sqrt{\\frac{2\\delta }{g^T H^{-1}g}}H^{-1}g$$\n",
    "\n",
    "This motivates the natural policy gradient algorithm, presented below\n",
    "\n",
    "\n",
    "```{prf:algorithm} Natural policy gradient\n",
    ":label: natural-policy-gradient\n",
    "\n",
    "**Inputs** Initialized policy $\\pi_0$\n",
    "\n",
    "1. For $i=1, 2,...$ until convergence:\n",
    "\t1. Collect set of trajectories from $\\pi_{\\theta_i}$\n",
    "\t2. Estimate advantage function $A_{\\pi_i}(\\mathbf{s}, \\mathbf{a})$\n",
    "    3. Find sample estimates for $g_i, H_i$\n",
    "    4. Update policy parameter based on \n",
    "    \n",
    "    $$\\theta_{i+1} = \\theta_{i} + \\sqrt{\\frac{2\\delta }{g_i^T H_i^{-1}g_i}}H_i^{-1}g_i$$\n",
    "```"
   ]
  },
  {
   "cell_type": "markdown",
   "metadata": {},
   "source": [
    "## Truncated natural policy gradient"
   ]
  },
  {
   "cell_type": "markdown",
   "metadata": {},
   "source": [
    "Note that to perform policy update, we need to estimate the inverse of the Hessian matrix, this is numerically unstable thing to do. Instead of computing the inverse, we can consider solve \n",
    "\n",
    "$$Hx=g \\implies x=H^{-1}g$$\n",
    "\n",
    "There are lots of algorithms for solving linear system. One popular choice is the conjugate gradient descent method. Once the solution $x$ has been found, the update rule is then \n",
    "\n",
    "$$\\theta_{k+1} = \\theta_{k} + \\sqrt{\\frac{2\\delta }{g^T x}}x$$\n",
    "\n",
    "Which is a much more stable problem! We adjust our psuedocode based on this change\n",
    "\n",
    "```{prf:algorithm} Truncated natural policy gradient\n",
    ":label: truncated-natural-policy-gradient\n",
    "\n",
    "**Inputs** Initialized policy $\\pi_0$\n",
    "\n",
    "1. For $i=1, 2,...$ until convergence:\n",
    "\t1. Collect set of trajectories from $\\pi_{\\theta_i}$\n",
    "\t2. Estimate advantage function $A_{\\pi_i}(\\mathbf{s}, \\mathbf{a})$\n",
    "    3. Find sample estimates for $g_i, H_i$\n",
    "    4. Use conjugate gradient descent to solve $H_ix_i=g_i$\n",
    "    4. Update policy parameter based on \n",
    "    \n",
    "    $$\\theta_{i+1} = \\theta_{i} + \\sqrt{\\frac{2\\delta }{g_i^T x_i}}x_i$$\n",
    "```"
   ]
  },
  {
   "cell_type": "markdown",
   "metadata": {},
   "source": [
    "## Trust region policy optimization (TRPO)"
   ]
  },
  {
   "cell_type": "markdown",
   "metadata": {},
   "source": [
    "Our final touch to the algorithm is to note that we've made lots of estimates in the algorithm. This means that due to estimation error, it is very likely that the update step brings out out of the trust region. To address this issue, TRPO algorithm added another backtracking line search. It starts from the maximium step and gradually reduce the step to see whether their is a better step. The psuedocode is shown below\n",
    "\n",
    "```{prf:algorithm} Backtracking line search\n",
    ":label: line-search\n",
    "\n",
    "**Inputs** $\\alpha\\in (0,1)$, proposed step size\n",
    "\n",
    "$$\\Delta_k = \\sqrt{\\frac{2\\delta }{g_k^T x_k}}x_k$$\n",
    "\n",
    "1. For $i=1, 2,..., L$:\n",
    "\t1. Compute potential update $\\theta \\leftarrow \\theta + \\alpha^i \\Delta_i$\n",
    "\t2. If $\\mathcal{L}_{\\theta_i}(\\theta) \\geq 0$ and $\\overline{D}_{KL}(\\theta||\\theta_i)\\leq \\delta$\n",
    "        1. Accept update\n",
    "        2. Break\n",
    "```\n",
    "\n",
    "The TRPO algorithm includes backtracking line search in the last step\n",
    "\n",
    "```{prf:algorithm} Trust region policy optimization\n",
    ":label: trpo\n",
    "\n",
    "**Inputs** Initialized policy $\\pi_0$\n",
    "\n",
    "1. For $i=1, 2,...$ until convergence:\n",
    "\t1. Collect set of trajectories from $\\pi_{\\theta_i}$\n",
    "\t2. Estimate advantage function $A_{\\pi_i}(\\mathbf{s}, \\mathbf{a})$\n",
    "    3. Find sample estimates for $g_i, H_i$\n",
    "    4. Use conjugate gradient descent to solve $H_ix_i=g_i$\n",
    "    4. Compute proposed update\n",
    "    \n",
    "    $$\\theta_{i+1} = \\theta_{i} + \\sqrt{\\frac{2\\delta }{g_i^T x_i}}x_i$$\n",
    "    \n",
    "    5. Perform backtracking line search to find optimal step size\n",
    "    6. Update policy parameter\n",
    "```"
   ]
  },
  {
   "cell_type": "markdown",
   "metadata": {
    "id": "NX3xVHV2oab3"
   },
   "source": [
    "## TRPO Implementation"
   ]
  },
  {
   "cell_type": "markdown",
   "metadata": {},
   "source": [
    "We now implement the TRPO algorithm and test its performance on cartpole enviroment. For the policy and value function, we use a one-layer neural network with hidden units of $128$. For the advantage, we use generalized advantage estimation algorithm. "
   ]
  },
  {
   "cell_type": "code",
   "execution_count": null,
   "metadata": {
    "colab": {
     "base_uri": "https://localhost:8080/"
    },
    "id": "nk_otJLd4DXe",
    "outputId": "f33efbc1-07ca-4b60-ce8e-560e25d0f79d",
    "tags": [
     "hide-input"
    ]
   },
   "outputs": [],
   "source": [
    "!pip -q install pybullet\n",
    "!pip -q install stable-baselines3[extra]\n",
    "!pip -q install pyvirtualdisplay\n",
    "!apt-get install -y xvfb\n",
    "\n",
    "import gym\n",
    "import pybullet_envs\n",
    "from tqdm import tqdm\n",
    "import copy\n",
    "import torch.nn.functional as F\n",
    "import matplotlib.pyplot as plt\n",
    "import os\n",
    "import torch.nn.utils as utils\n",
    "import pyvirtualdisplay\n",
    "import base64\n",
    "import io\n",
    "from IPython import display as ipythondisplay\n",
    "import imageio\n",
    "from datetime import datetime\n",
    "from stable_baselines3 import PPO\n",
    "import sys\n",
    "import numpy as np\n",
    "import torch\n",
    "import torch.nn as nn\n",
    "import torch.optim as optim\n",
    "from torch.utils.data import Dataset, DataLoader\n",
    "import warnings\n",
    "import logging\n",
    "\n",
    "warnings.filterwarnings('ignore', category=UserWarning)\n",
    "warnings.filterwarnings('ignore', category=DeprecationWarning)\n",
    "gym.logger.set_level(logging.ERROR)\n",
    "DEVICE = torch.device(\"cuda\" if torch.cuda.is_available() else \"cpu\")"
   ]
  },
  {
   "cell_type": "code",
   "execution_count": null,
   "metadata": {
    "id": "Qw-ZQzet-TvR"
   },
   "outputs": [],
   "source": [
    "class Policy(nn.Module):\n",
    "    def __init__(self, state_dim, action_dim, hidden_dim=128):\n",
    "        super(Policy, self).__init__()\n",
    "        self.state_dim = state_dim\n",
    "        self.action_dim = action_dim\n",
    "        self.net = SimpleNeuralNetwork(in_dim=state_dim, hidden_dim=hidden_dim, out_dim=action_dim, final_layer=\"Softmax\", n_layers=1)\n",
    "\n",
    "    def forward(self, obs):\n",
    "        return self.net(obs)\n",
    "\n",
    "    def select_action(self, state):\n",
    "        state = torch.tensor(state).float().to(DEVICE)\n",
    "        action_prob = self.net(state)\n",
    "        action_dist = torch.distributions.Categorical(probs=action_prob)\n",
    "        action = action_dist.sample()\n",
    "        return action.long()\n",
    "\n",
    "    def get_action_log_prob(self, state, action):\n",
    "        state = torch.tensor(state).float().to(DEVICE)\n",
    "        return torch.log(self.net(state).gather(1, action.long()))\n",
    "\n",
    "class Value(nn.Module):\n",
    "    def __init__(self, state_dim, hidden_dim=128):\n",
    "        super(Value, self).__init__()\n",
    "        self.state_dim = state_dim\n",
    "        self.net = SimpleNeuralNetwork(in_dim=state_dim, hidden_dim=hidden_dim, out_dim=action_dim, n_layers=1)\n",
    "\n",
    "    def forward(self, state):\n",
    "        return self.net(state)"
   ]
  },
  {
   "cell_type": "code",
   "execution_count": null,
   "metadata": {
    "id": "e9HVD1Zv-Txb"
   },
   "outputs": [],
   "source": [
    "class TRPOAgent(Agent):\n",
    "    def __init__(self, env, hidden_dim, lmbda, delta, alpha, lr, gamma, device=\"cpu\"):\n",
    "        self.env = env\n",
    "        state_dim, action_dim = env.observation_space.shape[0], env.action_space.n\n",
    "        self.policy = Policy(state_dim, action_dim, hidden_dim).to(device)\n",
    "        self.value = Value(state_dim, hidden_dim).to(device)\n",
    "        self.value_optimizer = torch.optim.Adam(self.value.parameters(), lr=lr)\n",
    "        self.gamma = gamma\n",
    "        self.lmbda = lmbda\n",
    "        self.delta = delta\n",
    "        self.alpha = alpha\n",
    "        self.device = device\n",
    "        \n",
    "    def compute_advantage(self, deltas):\n",
    "        deltas = deltas.detach().numpy()\n",
    "        advantage_list = []\n",
    "        advantage = 0.0\n",
    "        for delta in deltas[::-1]:\n",
    "            advantage = delta + self.gamma * self.lmbda * advantage\n",
    "            advantage_list.append(advantage)\n",
    "        advantage_list.reverse()\n",
    "        return torch.tensor(advantage_list, dtype=torch.float)\n",
    "\n",
    "    def hessian_product(self, states, old_dists, vector):\n",
    "        new_dist = torch.distributions.Categorical(self.policy(states))\n",
    "        kl = torch.mean(torch.distributions.kl.kl_divergence(old_dists, new_dist))\n",
    "        kl_grad = torch.autograd.grad(kl, self.policy.parameters(), create_graph=True)\n",
    "        kl_grad = torch.cat([grad.view(-1) for grad in kl_grad])\n",
    "        kl_grad_product = torch.dot(kl_grad, vector)\n",
    "        hessian_matrix_product = torch.autograd.grad(kl_grad_product, self.policy.parameters())\n",
    "        hessian_matrix_product = torch.cat([grad.view(-1) for grad in hessian_matrix_product])\n",
    "        return hessian_matrix_product\n",
    "\n",
    "    def conjugate_gradient(self, g, states, old_dists, max_steps=10, tol=1e-9):\n",
    "        r = p = g.clone()\n",
    "        x = torch.zeros_like(g)\n",
    "        r_r = torch.dot(r, r)\n",
    "        for i in range(max_steps):\n",
    "            Hp = self.hessian_product(states, old_dists, p)\n",
    "            alpha = r_r / torch.dot(p, Hp)\n",
    "            x += alpha * p\n",
    "            r -= alpha * Hp\n",
    "            new_r_r = torch.dot(r, r)\n",
    "            if new_r_r < tol:\n",
    "                break\n",
    "            p = r + new_r_r * p / r_r\n",
    "            r_r = new_r_r\n",
    "        return x\n",
    "\n",
    "    def surrogate(self, states, actions, advantage, old_log_probs, policy):\n",
    "        new_log_probs = policy.get_action_log_prob(states, actions)\n",
    "        ratio = torch.exp(new_log_probs - old_log_probs)\n",
    "        return torch.mean(ratio * advantage)\n",
    "\n",
    "    def line_search(self, states, actions, advantage, old_log_probs, old_dists, max_direction, max_steps=10):\n",
    "        old_param = torch.nn.utils.convert_parameters.parameters_to_vector(self.policy.parameters())\n",
    "        old_surrogate = self.surrogate(states, actions, advantage, old_log_probs, self.policy)\n",
    "        for i in range(max_steps):\n",
    "            new_param = old_param + self.alpha ** i * max_direction\n",
    "            new_policy = copy.deepcopy(self.policy)\n",
    "            torch.nn.utils.convert_parameters.vector_to_parameters(new_param, new_policy.parameters())\n",
    "            new_dists = torch.distributions.Categorical(new_policy(states))\n",
    "            kl= torch.mean(torch.distributions.kl.kl_divergence(old_dists, new_dists))\n",
    "            new_surrogate = self.surrogate(states, actions, advantage, old_log_probs, new_policy)\n",
    "            if new_surrogate > old_surrogate and kl < self.delta:\n",
    "                return new_param\n",
    "        return old_param\n",
    "\n",
    "    def learn_episode(self, *param):\n",
    "        max_steps = param[0]\n",
    "        states, actions, rewards, next_states, dones = self.sample_trajectory(self.env, self.policy, self.gamma, max_steps=max_steps, device=self.device)\n",
    "\n",
    "        ## 1. Update value function\n",
    "        with torch.no_grad():\n",
    "            target = rewards + self.gamma * (1 - dones) * self.value(next_states)\n",
    "        value_loss = torch.mean(F.mse_loss(self.value(states), target))\n",
    "        self.value_optimizer.zero_grad()\n",
    "        value_loss.backward()\n",
    "        self.value_optimizer.step()\n",
    "\n",
    "        ## 2. Compute surrogate gradient (g)\n",
    "        td_target = target - self.value(states)\n",
    "        advantage = self.compute_advantage(td_target, self.gamma, self.lmbda).to(self.device)\n",
    "        old_log_probs = self.policy.get_action_log_prob(states, actions).detach()\n",
    "        old_dists = torch.distributions.Categorical(self.policy(states).detach())\n",
    "        surrogate = self.surrogate(states, actions, advantage, old_log_probs, self.policy)\n",
    "        surrogate_grad = torch.autograd.grad(surrogate, self.policy.parameters())\n",
    "        surrogate_grad = torch.cat([grad.view(-1) for grad in surrogate_grad]).detach()\n",
    "\n",
    "        ## 3. Compute direction using conjugate gradient search\n",
    "        direction = self.conjugate_gradient(surrogate_grad, states, old_dists)\n",
    "        H = self.hessian_product(states, old_dists, direction)\n",
    "        max_step = torch.sqrt(2 * self.delta / (torch.dot(direction, H) + 1e-8))\n",
    "\n",
    "        ## 4. Use line search to find optimal updates\n",
    "        new_param = self.line_search(states, actions, advantage, old_log_probs, old_dists, direction * max_step)\n",
    "        torch.nn.utils.convert_parameters.vector_to_parameters(new_param, self.policy.parameters())\n",
    "        return value_loss.item(), torch.sum(rewards).item()"
   ]
  },
  {
   "cell_type": "code",
   "execution_count": null,
   "metadata": {
    "id": "gHt_Tk9C-U4U"
   },
   "outputs": [],
   "source": [
    "env_name = 'CartPoleBulletEnv-v1'\n",
    "env = gym.make(env_name)\n",
    "agent = TRPOAgent(env, hidden_dim=128, lmbda=0.95, delta=0.0005, alpha=0.5, value_lr=1e-2, gamma=1, device=DEVICE)\n",
    "history = agent.learn(num_episodes, 10000)"
   ]
  },
  {
   "cell_type": "code",
   "execution_count": 1,
   "metadata": {
    "colab": {
     "base_uri": "https://localhost:8080/",
     "height": 448
    },
    "id": "ay1F05dxfl_1",
    "outputId": "7d8fc911-058e-43e6-c5ec-f2ff8d8dddae",
    "tags": [
     "remove-input"
    ]
   },
   "outputs": [
    {
     "data": {
      "image/png": "[encoded data removed]",
      "text/plain": [
       "<Figure size 640x480 with 1 Axes>"
      ]
     },
     "metadata": {},
     "output_type": "display_data"
    }
   ],
   "source": [
    "import numpy as np\n",
    "import matplotlib.pyplot as plt\n",
    "\n",
    "rewards = [np.load(\"/Users/raymondtsao/Desktop/ReinforcementLearningNotes/notes/PolicyGradient/trpo/trpo_cartpole.npy\")]\n",
    "colors = np.load(\"colors.npy\")\n",
    "\n",
    "def smooth(rewards, l):\n",
    "    smoothed_rewards = []\n",
    "    for i in range(len(rewards)):\n",
    "        start_index = max(0, i - l + 1)\n",
    "        smoothed_rewards.append(np.mean(rewards[start_index:i + 1]))\n",
    "    return smoothed_rewards\n",
    "\n",
    "for i, reward in enumerate(rewards):\n",
    "    plt.plot(reward, c=colors[i], alpha=0.2)\n",
    "    plt.plot(smooth(reward, 10), c=colors[i])\n",
    "plt.title(\"TRPO Cartpole reward\")\n",
    "plt.xlabel(\"Episode\")\n",
    "plt.ylabel(\"Reward\")\n",
    "plt.show()"
   ]
  },
  {
   "cell_type": "markdown",
   "metadata": {},
   "source": [
    "<span style=\"font-size:20px;\"><strong>Citations</strong></span>"
   ]
  },
  {
   "cell_type": "markdown",
   "metadata": {},
   "source": [
    "[1] https://arxiv.org/abs/1502.05477"
   ]
  }
 ],
 "metadata": {
  "celltoolbar": "Tags",
  "colab": {
   "provenance": []
  },
  "kernelspec": {
   "display_name": "Python 3 (ipykernel)",
   "language": "python",
   "name": "python3"
  },
  "language_info": {
   "codemirror_mode": {
    "name": "ipython",
    "version": 3
   },
   "file_extension": ".py",
   "mimetype": "text/x-python",
   "name": "python",
   "nbconvert_exporter": "python",
   "pygments_lexer": "ipython3",
   "version": "3.10.9"
  }
 },
 "nbformat": 4,
 "nbformat_minor": 1
}