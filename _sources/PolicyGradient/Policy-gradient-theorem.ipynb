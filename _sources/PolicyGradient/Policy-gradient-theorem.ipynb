{
 "cells": [
  {
   "cell_type": "markdown",
   "id": "b81bb2b8",
   "metadata": {},
   "source": [
    "# Policy gradient theorem"
   ]
  },
  {
   "cell_type": "markdown",
   "id": "17e06550",
   "metadata": {},
   "source": [
    "In the previous section we provided a rather informal derivation of the policy gradient theorem. In this section, we provide a formal proof of the theorem presented in the original paper. Before we state the theorem, it is worth mention that in the paper, the author rewrites the objective as \n",
    "\n",
    "$$\n",
    "\\begin{align*}\n",
    "J(\\theta) &= \\mathbb{E}_{\\tau \\sim p_{\\theta}(\\tau)}\\bigg[\\sum_{t\\geq 0}r(\\mathbf{s}_t, \\mathbf{a}_t)\\bigg]\\\\\n",
    "&= \\mathbb{E}_{\\mathbf{s}_0}\\bigg[\\mathbb{E}_{\\mathbf{a}_0, \\mathbf{s}_1,...|\\mathbf{s}_0}\\bigg[\\sum_{t\\geq 0}r(\\mathbf{s}_t, \\mathbf{a}_t)\\bigg]\\bigg]\\\\\n",
    "&= \\mathbb{E}_{\\mathbf{s}_0}[V(\\mathbf{s}_0)]\\\\\n",
    "&= \\sum_{\\mathbf{s}\\in \\mathcal{S}} p(\\mathbf{s})V(\\mathbf{s})\n",
    "\\end{align*}\n",
    "$$\n",
    "\n",
    "With this in mind, we now state the policy gradient theorem. "
   ]
  },
  {
   "cell_type": "markdown",
   "id": "3332d74d",
   "metadata": {},
   "source": [
    "````{prf:theorem}Policy gradient theorem\n",
    ":label: policy-gradient-theorem\n",
    "\n",
    "Let $J(\\theta)$ denote the above objective. For any MDP instance, the gradient of the objective is given by \n",
    "\n",
    "$$\\nabla_{\\theta} J(\\theta) = \\sum_{\\mathbf{s}\\in \\mathcal{S}}p(\\mathbf{s})\\sum_{\\mathbf{a}\\in \\mathcal{A}}Q(\\mathbf{s}, \\mathbf{a})\\nabla_{\\theta} \\pi_{\\theta}(\\mathbf{a}|\\mathbf{s})$$\n",
    "\n",
    "````"
   ]
  },
  {
   "cell_type": "markdown",
   "id": "446f46f6",
   "metadata": {},
   "source": [
    "$$\\nabla_{\\theta} J(\\theta) = \\sum_{\\mathbf{s}\\in \\mathcal{S}}p(\\mathbf{s})\\sum_{\\mathbf{a}\\in \\mathcal{A}}Q_{\\pi}(\\mathbf{s}, \\mathbf{a})\\nabla_{\\theta} \\pi_{\\theta}(\\mathbf{a}|\\mathbf{s})$$"
   ]
  },
  {
   "cell_type": "code",
   "execution_count": null,
   "id": "b31f23b2",
   "metadata": {},
   "outputs": [],
   "source": []
  }
 ],
 "metadata": {
  "kernelspec": {
   "display_name": "Python 3 (ipykernel)",
   "language": "python",
   "name": "python3"
  },
  "language_info": {
   "codemirror_mode": {
    "name": "ipython",
    "version": 3
   },
   "file_extension": ".py",
   "mimetype": "text/x-python",
   "name": "python",
   "nbconvert_exporter": "python",
   "pygments_lexer": "ipython3",
   "version": "3.10.9"
  }
 },
 "nbformat": 4,
 "nbformat_minor": 5
}
