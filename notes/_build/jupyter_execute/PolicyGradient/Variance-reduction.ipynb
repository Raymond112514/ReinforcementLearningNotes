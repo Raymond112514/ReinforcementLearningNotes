{
 "cells": [
  {
   "cell_type": "markdown",
   "id": "10a35ac6",
   "metadata": {},
   "source": [
    "# Variance reduction"
   ]
  },
  {
   "cell_type": "markdown",
   "id": "af0f4880",
   "metadata": {},
   "source": [
    "One problem with REINFORCE is that when using small batch size, the variance of the gradient estimator can be large. "
   ]
  },
  {
   "cell_type": "markdown",
   "id": "27440f8c",
   "metadata": {},
   "source": [
    "## Reward to go"
   ]
  },
  {
   "cell_type": "markdown",
   "id": "8f54fa91",
   "metadata": {},
   "source": [
    "## Baseline subtraction"
   ]
  },
  {
   "cell_type": "code",
   "execution_count": null,
   "id": "9a6d4692",
   "metadata": {},
   "outputs": [],
   "source": []
  }
 ],
 "metadata": {
  "kernelspec": {
   "display_name": "Python 3 (ipykernel)",
   "language": "python",
   "name": "python3"
  },
  "language_info": {
   "codemirror_mode": {
    "name": "ipython",
    "version": 3
   },
   "file_extension": ".py",
   "mimetype": "text/x-python",
   "name": "python",
   "nbconvert_exporter": "python",
   "pygments_lexer": "ipython3",
   "version": "3.10.9"
  }
 },
 "nbformat": 4,
 "nbformat_minor": 5
}