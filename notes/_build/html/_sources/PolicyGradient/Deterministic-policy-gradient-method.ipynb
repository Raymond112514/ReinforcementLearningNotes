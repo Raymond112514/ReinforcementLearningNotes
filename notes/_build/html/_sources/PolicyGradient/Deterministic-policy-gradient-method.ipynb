{
 "cells": [
  {
   "cell_type": "markdown",
   "id": "88cec955",
   "metadata": {},
   "source": [
    "# Deterministic policy gradient method"
   ]
  },
  {
   "cell_type": "markdown",
   "id": "899b5136",
   "metadata": {},
   "source": [
    "The Deterministic Policy Gradient (DPG) algorithm was proposed by Silver et al. in 2015. Unlike traditional methods that learn a stochastic policy producing a Gaussian or categorical distribution, DPG focuses on learning a deterministic policy. To achieve this, the authors first derived a deterministic analog of the policy gradient theorem called the determinstic policy gradient theorem. <br>\n",
    "\n",
    "Let $\\mu:\\mathcal{S}\\rightarrow\\mathcal{A}$ be a mapping from states to actions. The deterministic policy gradient theorem shows that the gradient of the expected reward $J(\\theta)$ can be expressed as \n",
    "\n",
    "$$\\nabla_{\\theta} J(\\theta) = \\mathbb{E}_{\\tau\\sim p(\\tau)}\\bigg[\\nabla_\\theta Q(s, \\mu_\\theta(s))\\bigg]$$\n",
    "\n",
    "Intuitively, we update our policy by moving in dircetion where the action value $Q$ increases the most. By applying chain rule, we have \n",
    "\n",
    "$$\\nabla_{\\theta} J(\\theta) = \\mathbb{E}_{\\tau\\sim p(\\tau)}\\bigg[\\nabla_\\theta\\mu_\\theta(s)\\nabla_\\theta Q(s, a)\\bigg|_{a=\\mu_\\theta(s)}\\bigg]$$\n",
    "\n",
    "Which can be evaluated using Monte-Carlo methods. This gives us a way to update the policy function. However, we still need a way to estimate the action state value. "
   ]
  },
  {
   "cell_type": "markdown",
   "id": "c38c4acb",
   "metadata": {},
   "source": [
    "## Deep deterministic policy gradient"
   ]
  },
  {
   "cell_type": "markdown",
   "id": "861576b0",
   "metadata": {},
   "source": [
    "In a subsequent paper, Continuous Control with Deep Reinforcement Learning, Lillicrap et al. applied the Deterministic Policy Gradient (DPG) method to deep neural network estimators. The resulting algorithm is known as the deep determinstic policy gradient (DDPG) method. The DDPG algorithm uses a Q-learning-like method to learn the action value function $Q$. The psuedocode for DDPG is presented below\n",
    "\n",
    "```{prf:algorithm} Deep deterministic policy gradient\n",
    ":label: my-algorithm\n",
    "\n",
    "**Inputs** Differentiable policy $\\pi_{\\theta}$, action value function $Q_{\\phi}$, learning rate $\\alpha$, number of episodes $N$, batch size $K$\n",
    "\n",
    "1. Initialize target networks target networks $\\pi_{\\theta'}$, $Q_{\\phi')$ with same weights\n",
    "2. Initialize replay buffer $R$\n",
    "3. While episode $n<N$:\n",
    "\t1. Initialize random process $\\mathcal{N}$ for exploration\n",
    "\t2. For $t=1,...,T$ do:\n",
    "        1. Select action $\\mathbf{a}_t=\\mu_{\\theta}(\\mathbf{s}_t)+\\mathcal{N}$\n",
    "        2. Experience transition $(\\mathbf{s}_t, \\mathbf{a}_t, r_t, \\mathbf{s}_{t+1})$ and store the transition in $R$\n",
    "        3. Sample a minibatch $\\{(\\mathbf{s}_i, \\mathbf{a}_i, r_i, \\mathbf{s}_{i+1})\\}$ from $R$\n",
    "        4. Compute target using the target network\n",
    "        \n",
    "        $$y_i=r_i + \\gamma Q_{\\phi'}(\\mathbf{s}_{i+1}, \\mu_{\\theta'}(\\mathbf{s}_{i+1}))$$\n",
    "        \n",
    "        5. Update action value function by minimizing\n",
    "        \n",
    "        $$ L(\\phi) = \\frac{1}{K}\\sum_{i=1}^K (y_i - Q_{\\phi}(\\mathbf{s}_i, \\mathbf{a}_i))^2$$\n",
    "        \n",
    "        6. Update policy by using the estimated policy gradient\n",
    "        \n",
    "        $$\\nabla J(\\theta) = \\frac{1}{K}\\sum_{i=1}^K \\nabla_a Q(\\mathbf{s}, \\mathbf{a})\\bigg|_{\\mathbf{s}=\\mathbf{s}_{i}, \\mathbf{a}=\\mu(\\mathbf{s}_i)}\\nabla_{\\theta}\\mu_{\\theta}(\\mathbf{s})\\bigg|_{\\mathbf{s}=\\mathbf{s}_i}$$\n",
    "        \n",
    "        7. Perform soft update on the targets\n",
    "        \n",
    "        $$\n",
    "        \\begin{align*}\n",
    "            &\\theta' \\leftarrow \\tau \\theta + (1-\\tau)\\theta'\\\\\n",
    "            &\\phi' \\leftarrow \\tau \\phi + (1-\\tau)\\phi'\n",
    "        \\end{align*}\n",
    "        $$\n",
    "```"
   ]
  },
  {
   "cell_type": "markdown",
   "id": "d2d217bf",
   "metadata": {},
   "source": [
    "### Action value function update"
   ]
  },
  {
   "cell_type": "markdown",
   "id": "7f979a92",
   "metadata": {},
   "source": [
    "In the paper, the authors use a Q-learning style method to estimate the action value function $Q$. To improve performance, they introduce a replay buffer and use two $Q$ functions for updates. However, only one of the $Q$ functions is directly trained, while the other is updated by taking the exponential moving average of the trained $Q$ function. This approach helps enhance the stability of the training process. The weight $\\tau$ for the exponential moving average is set to a value around $0.005$."
   ]
  },
  {
   "cell_type": "markdown",
   "id": "9381f3e9",
   "metadata": {},
   "source": [
    "### Exploration"
   ]
  },
  {
   "cell_type": "markdown",
   "id": "facbfb0f",
   "metadata": {},
   "source": [
    "One problem with deterministic policies during training is that the policy is likely to avoid exploring unvisited states. To address this issue, the authors proposed adding noise to the actions output by the policy:\n",
    "\n",
    "$$\\mathbf{a}_t = \\mu_{\\theta}(\\mathbf{s}_t)+\\mathcal{N}$$\n",
    "\n",
    "The noise process $\\mathcal{N}$ can be chosen to suit the enviroment. In the paper, the authors used the Ornstein-Uhlenbeck process, which is defined by the stochastic differential equation:\n",
    "\n",
    "$$dx_t = -\\theta x_tdt + \\sigma dW_t$$"
   ]
  },
  {
   "cell_type": "markdown",
   "id": "97d766f0",
   "metadata": {},
   "source": [
    "## DDPG Implementation"
   ]
  },
  {
   "cell_type": "markdown",
   "id": "68fee8a2",
   "metadata": {},
   "source": [
    "We implement the DDPG algorithm and test its performance on the inverse pendulum task. For both the policy and the action value function, we used a one layer neural network with hidden units of $128$. For the noise process, we followed the same choice of Ornstein-Uhlenbeck process with $\\theta=0.5$ and $\\sigma=0.2$. "
   ]
  },
  {
   "cell_type": "code",
   "execution_count": null,
   "id": "f1281475",
   "metadata": {
    "tags": [
     "hide-input"
    ]
   },
   "outputs": [],
   "source": [
    "!pip -q install pybullet\n",
    "!pip -q install stable-baselines3[extra]\n",
    "!pip -q install pyvirtualdisplay\n",
    "!apt-get install -y xvfb\n",
    "\n",
    "import gym\n",
    "import pybullet_envs\n",
    "import matplotlib.pyplot as plt\n",
    "import pyvirtualdisplay\n",
    "import imageio\n",
    "import numpy as np\n",
    "from collections import deque\n",
    "import torch\n",
    "import random\n",
    "import torch.nn as nn\n",
    "import torch.optim as optim\n",
    "import torch.nn.utils as utils\n",
    "from torch.utils.data import Dataset, DataLoader\n",
    "from torch.nn.utils import clip_grad_norm_\n",
    "from utils import *\n",
    "\n",
    "DEVICE = torch.device(\"cuda\" if torch.cuda.is_available() else \"cpu\")"
   ]
  },
  {
   "cell_type": "code",
   "execution_count": null,
   "id": "f26f5196",
   "metadata": {},
   "outputs": [],
   "source": [
    "class Policy(nn.Module):\n",
    "    def __init__(self, state_dim, action_dim, hidden_dim=32):\n",
    "        super(Policy, self).__init__()\n",
    "        self.net = SimpleNeuralNetwork(in_dim=state_dim, hidden_dim=hidden_dim, out_dim=action_dim, n_layers=1)\n",
    "        \n",
    "    def forward(self, state):\n",
    "        state = torch.tensor(state).float()\n",
    "        if len(state.shape) == 1:\n",
    "            state = state.unsqueeze(0)\n",
    "        return self.net(state).squeeze(-1)\n",
    "\n",
    "    def select_action(self, state):\n",
    "        return self.forward(state)\n",
    "\n",
    "class QValue(nn.Module):\n",
    "    def __init__(self, state_dim, action_dim, hidden_dim=128):\n",
    "        super(QValueNetwork, self).__init__()\n",
    "        self.net = SimpleNeuralNetwork(in_dim=state_dim+action_dim, hidden_dim=hidden_dim, out_dim=1, n_layers=1)\n",
    "\n",
    "    def forward(self, state, action):\n",
    "        if len(action.shape) == 1:\n",
    "            action = action.unsqueeze(-1)\n",
    "        return self.net(torch.cat([state, action], dim=-1)).squeeze(-1)\n",
    "    \n",
    "class OrnsteinUhlenbeckProcess:\n",
    "    def __init__(self, mu=np.array([0]), sigma=np.array([0.2]), theta=.15, dt=1e-2, x0=None):\n",
    "        self.theta = theta\n",
    "        self.mu = mu\n",
    "        self.sigma = sigma\n",
    "        self.dt = dt\n",
    "        self.x0 = x0\n",
    "        self.reset_states()\n",
    "\n",
    "    def sample(self):\n",
    "        x = self.x_prev + self.theta * (self.mu - self.x_prev) * self.dt \\\n",
    "            + self.sigma * np.sqrt(self.dt) * np.random.normal(size=self.mu.shape)\n",
    "        self.x_prev = x\n",
    "        return x\n",
    "\n",
    "    def reset_states(self):\n",
    "        self.x_prev = self.x0 if self.x0 is not None else np.zeros_like(self.mu)"
   ]
  },
  {
   "cell_type": "code",
   "execution_count": null,
   "id": "9f38cf33",
   "metadata": {},
   "outputs": [],
   "source": [
    "class DeterministicPolicyGradientAgent:\n",
    "    def __init__(self, env, tau, lr=1e-3, device=\"cpu\"):\n",
    "        self.env = env\n",
    "        self.state_dim, self.action_dim = env.observation_space.shape[0], 1\n",
    "\n",
    "        ## 1. Create policy, Q network and their replicas\n",
    "        self.policy = Policy(self.state_dim, self.action_dim)\n",
    "        self.q_value = QValue(self.state_dim, self.action_dim)\n",
    "        self.target_policy = Policy(self.state_dim, self.action_dim)\n",
    "        self.target_q_value = QValue(self.state_dim, self.action_dim)\n",
    "        self.target_policy.load_state_dict(self.policy.state_dict())\n",
    "        self.target_q_value.load_state_dict(self.q_value.state_dict())\n",
    "\n",
    "        ## 2. Instantiates optimizer for policy/q_value optimizer, and buffer, tau\n",
    "        self.policy_optimizer = optim.Adam(self.policy.parameters(), lr=lr / 3)\n",
    "        self.q_value_optimizer = optim.Adam(self.q_value.parameters(), lr=lr)\n",
    "        self.policy_scheduler = optim.lr_scheduler.StepLR(self.policy_optimizer, step_size=50, gamma=0.9)\n",
    "        self.q_value_scheduler = optim.lr_scheduler.StepLR(self.q_value_optimizer, step_size=50, gamma=0.9)\n",
    "\n",
    "        self.ou_process = OrnsteinUhlenbeckProcess(sigma=np.array([0.2]))\n",
    "        self.buffer = ReplayBuffer(env, self.ou_process, self.target_policy, maxlen=10000)\n",
    "        self.tau = tau\n",
    "        self.device = device\n",
    "\n",
    "    def learn_episode(self, *param):\n",
    "        max_steps, gamma, batch_size, grad_clip_value = param\n",
    "        self.policy.train()\n",
    "        self.q_value.train()\n",
    "        state = self.env.reset()\n",
    "        self.ou_process.reset_states() \n",
    "        done = False\n",
    "        step, episode_loss = 0, 0\n",
    "        while not done and step < max_steps:\n",
    "            self.policy_optimizer.zero_grad()\n",
    "            self.q_value_optimizer.zero_grad()\n",
    "            with torch.no_grad():\n",
    "                action = self.policy.select_action(state) + self.ou_process.sample()\n",
    "                action = action.clip(-1, 1)\n",
    "            next_state, reward, done, _ = self.env.step(action.cpu().detach().numpy())\n",
    "            episode_reward += reward\n",
    "            self.buffer.add(state, action, reward, next_state, done)\n",
    "            state = next_state\n",
    "            step += 1\n",
    "            states, actions, rewards, next_states, dones = self.buffer.sample(batch_size)\n",
    "\n",
    "            ## 1. Train q-value function\n",
    "            target = rewards + gamma * (1 - dones) * self.target_q_value(next_states, self.target_policy(next_states))\n",
    "            q_value_loss = nn.MSELoss()(self.q_value(states, actions), target.detach())\n",
    "            q_value_loss.backward()\n",
    "            clip_grad_norm_(self.q_value.parameters(), grad_clip_value)\n",
    "            self.q_value_optimizer.step()\n",
    "\n",
    "            ## 2. Train policy\n",
    "            policy_loss = -self.q_value(states, self.policy(states)).mean()\n",
    "            policy_loss.backward()\n",
    "            clip_grad_norm_(self.policy.parameters(), grad_clip_value)\n",
    "            self.policy_optimizer.step()\n",
    "\n",
    "            ## 3. Update target networks\n",
    "            self.soft_update(self.target_policy, self.policy)\n",
    "            self.soft_update(self.target_q_value, self.q_value)\n",
    "\n",
    "            episode_loss += q_value_loss.item() + policy_loss.item()\n",
    "        return episode_loss / step, None\n",
    "    \n",
    "    def soft_update(self, target_model, model):\n",
    "        for target_param, param in zip(target_model.parameters(), model.parameters()):\n",
    "                target_param.data.copy_(target_param.data * (1 - self.tau) + param.data * self.tau)\n",
    "\n",
    "    def evaluate(self, max_steps=2000):\n",
    "        self.policy.eval()\n",
    "        self.q_value.eval()\n",
    "        state = self.env.reset()\n",
    "        done = False\n",
    "        step = 0\n",
    "        episode_reward = 0\n",
    "        while not done and step < max_steps:\n",
    "            with torch.no_grad():\n",
    "                action = self.policy.select_action(state)\n",
    "            next_state, reward, done, _ = self.env.step(action.cpu().detach().numpy())\n",
    "            episode_reward += reward\n",
    "            state = next_state\n",
    "            step += 1\n",
    "        return episode_reward"
   ]
  },
  {
   "cell_type": "code",
   "execution_count": null,
   "id": "cde36208",
   "metadata": {},
   "outputs": [],
   "source": [
    "env = gym.make(\"InvertedPendulumBulletEnv-v0\")\n",
    "agent = DeterministicPolicyGradientAgent(env, tau=0.005, lr=1e-3)\n",
    "history = agent.learn(500, gamma=0.99, print_every=10)"
   ]
  },
  {
   "cell_type": "code",
   "execution_count": 11,
   "id": "b01756d3",
   "metadata": {
    "tags": [
     "remove-input"
    ]
   },
   "outputs": [
    {
     "data": {
      "image/png": "[encoded data removed]",
      "text/plain": [
       "<Figure size 640x480 with 1 Axes>"
      ]
     },
     "metadata": {},
     "output_type": "display_data"
    }
   ],
   "source": [
    "import numpy as np\n",
    "import matplotlib.pyplot as plt\n",
    "\n",
    "rewards = [np.load(\"/Users/raymondtsao/Desktop/ReinforcementLearningNotes/notes/PolicyGradient/ddpg/reward.npy\")]\n",
    "\n",
    "colors = np.load(\"colors.npy\")\n",
    "\n",
    "def smooth(rewards, l):\n",
    "    smoothed_rewards = []\n",
    "    for i in range(len(rewards)):\n",
    "        start_index = max(0, i - l + 1)\n",
    "        smoothed_rewards.append(np.mean(rewards[start_index:i + 1]))\n",
    "    return smoothed_rewards\n",
    "\n",
    "for i, reward in enumerate(rewards):\n",
    "    plt.plot(reward, c=colors[i], alpha=0.2)\n",
    "    plt.plot(smooth(reward, 20), c=colors[i])\n",
    "plt.title(\"DDPG Inverted pendulum reward\")\n",
    "plt.xlabel(\"Episode\")\n",
    "plt.ylabel(\"Reward\")\n",
    "plt.show()"
   ]
  }
 ],
 "metadata": {
  "celltoolbar": "Tags",
  "kernelspec": {
   "display_name": "Python 3 (ipykernel)",
   "language": "python",
   "name": "python3"
  },
  "language_info": {
   "codemirror_mode": {
    "name": "ipython",
    "version": 3
   },
   "file_extension": ".py",
   "mimetype": "text/x-python",
   "name": "python",
   "nbconvert_exporter": "python",
   "pygments_lexer": "ipython3",
   "version": "3.10.9"
  }
 },
 "nbformat": 4,
 "nbformat_minor": 5
}
