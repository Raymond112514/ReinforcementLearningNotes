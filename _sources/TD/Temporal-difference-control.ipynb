{
 "cells": [
  {
   "cell_type": "markdown",
   "id": "e8a2301a",
   "metadata": {},
   "source": [
    "# Temporal difference control"
   ]
  },
  {
   "cell_type": "markdown",
   "id": "3aa3c9d6",
   "metadata": {},
   "source": [
    "In the previous section, we discussed the temporal difference method way of approximating the value function of a policy. In this section, we cover how temporal difference can help us determine the optimal policy. The idea is similar to that of Monte Carlo control. To determine the optimal policy, we need to estimate the state action value function. In a temporal difference setup, the update rule is given by \n",
    "\n",
    "$$Q(\\mathbf{s}_t, \\mathbf{a}_t) \\leftarrow Q(\\mathbf{s}_t, \\mathbf{a}_t) + \\alpha \\cdot [r_t + \\gamma Q(\\mathbf{s}_{t+1}, \\mathbf{a}_{t+1}) - Q(\\mathbf{s}_{t}, \\mathbf{a}_{t})]$$\n",
    "\n",
    "Which leads to the following algorithm known as SARSA (since each iteration uses a $(\\mathbf{s}_t, \\mathbf{a}_t, r_t, \\mathbf{s}_{t+1}, \\mathbf{a}_{t+1})$ sample). "
   ]
  },
  {
   "cell_type": "markdown",
   "id": "bef58822",
   "metadata": {},
   "source": [
    "## SARSA"
   ]
  },
  {
   "cell_type": "markdown",
   "id": "86e5c381",
   "metadata": {},
   "source": [
    "```{prf:algorithm} SARSA\n",
    ":label: my-algorithm\n",
    "\n",
    "**Inputs** Learning rate $\\alpha, \\epsilon \\in (0, 1)$\n",
    "\n",
    "**Output** Estimated policy $\\pi(\\mathbf{a}|\\mathbf{s})$\n",
    "\n",
    "1. Initialize $Q(s, a)$ arbitrary for all $s\\in \\mathcal{S}, a\\in \\mathcal{A}$ expect for terminal states\n",
    "2. For each episode\n",
    "\t1. Initialize state $\\mathbf{s}_0$\n",
    "\t2. While not terminate\n",
    "\t\t1. Choose $\\mathbf{a}_t$ from current $Q$ function estimate with $\\epsilon$-greedy strategy.\n",
    "\t\t2. Take action $\\mathbf{a}_t$, observe $r_t, \\mathbf{s}_{t+1}$\n",
    "        3. Choose $\\mathbf{a}_{t+1}$ from current $Q$ function estimate with $\\epsilon$-greedy strategy.\n",
    "        3. Update $Q(\\mathbf{s}_t, \\mathbf{a}_t) \\leftarrow Q(\\mathbf{s}_t, \\mathbf{a}_t) + \\alpha \\cdot [r_t + \\gamma Q(\\mathbf{s}_{t+1}, \\mathbf{a}_{t+1}) - Q(\\mathbf{s}_{t}, \\mathbf{a}_{t})]$\n",
    "```\n",
    "\n",
    "Below, we implement SARSA to determine the policy for the cliff-walking environment. "
   ]
  },
  {
   "cell_type": "code",
   "execution_count": 1,
   "id": "922ed1bb",
   "metadata": {
    "tags": [
     "hide-input"
    ]
   },
   "outputs": [],
   "source": [
    "import gym\n",
    "import numpy as np\n",
    "import time\n",
    "import imageio\n",
    "import matplotlib.pyplot as plt\n",
    "from matplotlib.patches import Polygon\n",
    "from td import *"
   ]
  },
  {
   "cell_type": "code",
   "execution_count": 2,
   "id": "353d8474",
   "metadata": {},
   "outputs": [],
   "source": [
    "def SARSA(env: any, policy: Policy, n_episodes: int, gamma: float, alpha: float, max_steps: int=1000):\n",
    "    \"\"\"\n",
    "    Implementation of sarsa algorithm \n",
    "    @return q_values: The learned action values of the form\n",
    "        {state1: {action1: q11, action2: q12,...},\n",
    "         state2: {action1: q21, action2: q22,...}}\n",
    "    \"\"\"\n",
    "    states = policy.states\n",
    "    actions = policy.actions\n",
    "    q_values = {state: {action: 0 for action in actions} for state in states}\n",
    "    for episode in range(n_episodes):\n",
    "        state = env.reset()[0]\n",
    "        action = policy.get_action(state, q_values)\n",
    "        done = False\n",
    "        step_count = 0\n",
    "        cum_reward = 0\n",
    "        while not done and step_count < max_steps:\n",
    "            new_state, reward, done, info = env.step(action)[:4]\n",
    "            new_action = policy.get_action(new_state, q_values)\n",
    "            q_values[state][action] += alpha * (reward + gamma * q_values[new_state][new_action] - q_values[state][action])\n",
    "            state = new_state\n",
    "            action = new_action\n",
    "            done = reward == -100\n",
    "            if state == 47:\n",
    "                reward, done = 10, True\n",
    "            step_count += 1\n",
    "            cum_reward += reward * gamma ** step_count\n",
    "    return q_values"
   ]
  },
  {
   "cell_type": "code",
   "execution_count": 3,
   "id": "9ded99cc",
   "metadata": {},
   "outputs": [],
   "source": [
    "class LearnedPolicy(Policy):\n",
    "    \"\"\"\n",
    "    Policy that implements epsilon greedy algorithm\n",
    "    \"\"\"\n",
    "    def get_action(self, state, q_values, epsilon=0.1):\n",
    "        action_values = q_values[state] \n",
    "        if np.random.rand() < epsilon:\n",
    "            return np.random.choice(self.actions)\n",
    "        return max(action_values, key=action_values.get)"
   ]
  },
  {
   "cell_type": "code",
   "execution_count": 35,
   "id": "aa1c4bf6",
   "metadata": {
    "tags": [
     "hide-input"
    ]
   },
   "outputs": [],
   "source": [
    "env = gym.make('CliffWalking-v0')\n",
    "states = list(range(env.observation_space.n))\n",
    "actions = list(range(env.action_space.n))\n",
    "policy = LearnedPolicy(states, actions)\n",
    "q_values = SARSA(env, policy, 3000, 1, 0.1, 500)"
   ]
  },
  {
   "cell_type": "markdown",
   "id": "45e1d646",
   "metadata": {},
   "source": [
    "We ran SARSA for around $3000$ epochs with learning rate $\\alpha=0.1$ and $\\epsilon=0.1$. The discount factor is set to be $1$. The estimated policy is shown in the figure below. As we can see, the estimated policy move away from states closing to the cliff and prefers the path that is longer but safer."
   ]
  },
  {
   "cell_type": "code",
   "execution_count": 36,
   "id": "fe8d46be",
   "metadata": {},
   "outputs": [
    {
     "data": {
      "image/png": "[encoded data removed]",
      "text/plain": [
       "<Figure size 1200x400 with 1 Axes>"
      ]
     },
     "metadata": {},
     "output_type": "display_data"
    }
   ],
   "source": [
    "display_policy(policy, q_values)"
   ]
  },
  {
   "cell_type": "markdown",
   "id": "be6d1dfa",
   "metadata": {},
   "source": [
    "## Q-Learning"
   ]
  },
  {
   "cell_type": "markdown",
   "id": "d2a5ab77",
   "metadata": {},
   "source": [
    "SARSA is an on policy temporal difference method, since we are modifying the policy in place while training. An offline version of temporal difference control is proposed in 1989 by Watkins. The algorithm is known as Q-learning. Instead of using the bootstrapped estimate of future value, Q learning updates the state action function as follows\n",
    "\n",
    "$$Q(\\mathbf{s}_t, \\mathbf{a}_t) \\leftarrow Q(\\mathbf{s}_t, \\mathbf{a}_t) + \\alpha \\cdot [r_t + \\gamma \\max_{\\mathbf{a}\\in \\mathcal{A}} Q(\\mathbf{s}_{t+1}, \\mathbf{a}) - Q(\\mathbf{s}_{t}, \\mathbf{a}_{t})]$$\n",
    "\n",
    "Note that this is an offline method because we generate the samples using an $\\epsilon$-greedy method but updates our estimate using the greedy policy\n",
    "\n",
    "$$\\hat{\\pi}(\\mathbf{a}|\\mathbf{s}) = \\underset{\\mathbf{a}\\in \\mathcal{A}}{\\text{argmax}}\\; Q(\\mathbf{s}_{t+1}, \\mathbf{a})$$\n",
    "\n",
    "The psuedocode for Q learning is provided below\n",
    "\n",
    "```{prf:algorithm} Q-learning\n",
    ":label: my-algorithm\n",
    "\n",
    "**Inputs** Learning rate $\\alpha, \\epsilon \\in (0, 1)$\n",
    "\n",
    "**Output** Estimated policy $\\pi(\\mathbf{a}|\\mathbf{s})$\n",
    "\n",
    "1. Initialize $Q(s, a)$ arbitrary for all $s\\in \\mathcal{S}, a\\in \\mathcal{A}$ expect for terminal states\n",
    "2. For each episode\n",
    "\t1. Initialize state $\\mathbf{s}_0$\n",
    "\t2. While not terminate\n",
    "\t\t1. Choose $\\mathbf{a}_t$ from current $Q$ function estimate with $\\epsilon$-greedy strategy.\n",
    "\t\t2. Take action $\\mathbf{a}_t$, observe $r_t, \\mathbf{s}_{t+1}$\n",
    "        3. Choose $\\mathbf{a}_{t+1}$ from current $Q$ function estimate with $\\epsilon$-greedy strategy.\n",
    "        3. Update $Q(\\mathbf{s}_t, \\mathbf{a}_t) \\leftarrow Q(\\mathbf{s}_t, \\mathbf{a}_t) + \\alpha \\cdot [r_t + \\gamma \\max_{\\mathbf{a}\\in \\mathcal{A}} Q(\\mathbf{s}_{t+1}, \\mathbf{a}) - Q(\\mathbf{s}_{t}, \\mathbf{a}_{t})]$\n",
    "```\n",
    "\n",
    "Below we implement and tested Q learning on the cliff walking enviroment. We ran it for around $3000$ episodes following the same setting as SARSA. "
   ]
  },
  {
   "cell_type": "code",
   "execution_count": 17,
   "id": "af7cf69e",
   "metadata": {},
   "outputs": [],
   "source": [
    "def Q_Learning(env: any, policy: Policy, n_episodes: int, gamma: float, alpha: float, max_steps: int=1000):\n",
    "    \"\"\"\n",
    "    Implementation of Q-Learning algorithm\n",
    "    @return q_values: The learned action values of the form\n",
    "        {state1: {action1: q11, action2: q12,...},\n",
    "         state2: {action1: q21, action2: q22,...}}\n",
    "    \"\"\"\n",
    "    states = policy.states\n",
    "    actions = policy.actions\n",
    "    q_values = {state: {action: 0 for action in actions} for state in states}\n",
    "    for episode in range(n_episodes):\n",
    "        state = env.reset()[0]\n",
    "        action = policy.get_action(state, q_values)\n",
    "        done = False\n",
    "        step_count = 0\n",
    "        while not done and step_count < max_steps:\n",
    "            new_state, reward, done, info = env.step(action)[:4]\n",
    "            new_action = policy.get_action(new_state, q_values)\n",
    "            q_values[state][action] += alpha * (reward + gamma * max(q_values[new_state].values()) - q_values[state][action])\n",
    "            state = new_state\n",
    "            action = new_action\n",
    "            done = reward == -100\n",
    "            if state == 47:\n",
    "                reward, done = 10, True\n",
    "            step_count += 1\n",
    "    return q_values"
   ]
  },
  {
   "cell_type": "code",
   "execution_count": 39,
   "id": "b86c68af",
   "metadata": {
    "tags": [
     "hide-input"
    ]
   },
   "outputs": [],
   "source": [
    "states = list(range(env.observation_space.n))\n",
    "actions = list(range(env.action_space.n))\n",
    "policy = LearnedPolicy(states, actions)\n",
    "\n",
    "q_values = Q_Learning(env, policy, 10000, 1, 0.1, 500)"
   ]
  },
  {
   "cell_type": "markdown",
   "id": "e1bfc16d",
   "metadata": {},
   "source": [
    "Note the difference between the estimated policy between SARSA and Q-learning. SARSA learns a conservative solution—it chooses a solution that is safer (i.e. far away from cliff), but takes more timestep to complete. Q-learning on the other hand, learns a more risky solution. It uses less timestep but risk falling into the cliff. One explanation is that Q-learning learns thorough taking greedy actions. "
   ]
  },
  {
   "cell_type": "code",
   "execution_count": 40,
   "id": "46fc5055",
   "metadata": {},
   "outputs": [
    {
     "data": {
      "image/png": "[encoded data removed]",
      "text/plain": [
       "<Figure size 1200x400 with 1 Axes>"
      ]
     },
     "metadata": {},
     "output_type": "display_data"
    }
   ],
   "source": [
    "display_policy(policy, q_values)"
   ]
  }
 ],
 "metadata": {
  "celltoolbar": "Tags",
  "kernelspec": {
   "display_name": "Python 3 (ipykernel)",
   "language": "python",
   "name": "python3"
  },
  "language_info": {
   "codemirror_mode": {
    "name": "ipython",
    "version": 3
   },
   "file_extension": ".py",
   "mimetype": "text/x-python",
   "name": "python",
   "nbconvert_exporter": "python",
   "pygments_lexer": "ipython3",
   "version": "3.10.9"
  }
 },
 "nbformat": 4,
 "nbformat_minor": 5
}
