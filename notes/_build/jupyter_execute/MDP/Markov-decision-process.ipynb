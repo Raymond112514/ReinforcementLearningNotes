{
 "cells": [
  {
   "cell_type": "markdown",
   "id": "abf95167",
   "metadata": {},
   "source": [
    "# Markov decision process"
   ]
  },
  {
   "cell_type": "markdown",
   "id": "7f3d0f9e",
   "metadata": {},
   "source": [
    "Some text about MDP....."
   ]
  },
  {
   "cell_type": "code",
   "execution_count": null,
   "id": "4b73c421",
   "metadata": {},
   "outputs": [],
   "source": []
  }
 ],
 "metadata": {
  "kernelspec": {
   "display_name": "Python 3 (ipykernel)",
   "language": "python",
   "name": "python3"
  },
  "language_info": {
   "codemirror_mode": {
    "name": "ipython",
    "version": 3
   },
   "file_extension": ".py",
   "mimetype": "text/x-python",
   "name": "python",
   "nbconvert_exporter": "python",
   "pygments_lexer": "ipython3",
   "version": "3.10.9"
  }
 },
 "nbformat": 4,
 "nbformat_minor": 5
}