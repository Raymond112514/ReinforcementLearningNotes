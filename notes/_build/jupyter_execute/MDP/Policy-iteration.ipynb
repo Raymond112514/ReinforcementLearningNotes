{
 "cells": [
  {
   "cell_type": "markdown",
   "id": "cb72b5bf",
   "metadata": {},
   "source": [
    "# Policy iteration"
   ]
  },
  {
   "cell_type": "markdown",
   "id": "471ec259",
   "metadata": {},
   "source": [
    "Policy iteration is another way of solving the MDP problem. Instead of learning the optimal state value function, policy iteration starts with a random policy and gradually imporves the policy in two steps\n",
    "\n",
    "1. Policy evaluation: The value function of the current policy $\\pi_k$ is evaluated, and\n",
    "2. Policy improvement: Update policy $\\pi_{k+1}$ to increase the value"
   ]
  },
  {
   "cell_type": "markdown",
   "id": "787e201b",
   "metadata": {},
   "source": [
    "## Policy evaluation (E)"
   ]
  },
  {
   "cell_type": "markdown",
   "id": "c95bc45b",
   "metadata": {},
   "source": [
    "In the policy evaluation step, we evaluate the value function $V_{\\pi_k}(\\mathbf{s})$. By the Bellman equation, we have \n",
    "\n",
    "$$V_{\\pi_k}(\\mathbf{s}) = \\sum_{\\mathbf{a}} \\pi_k(\\mathbf{a}|\\mathbf{s})\\sum_{\\mathbf{s}'} p(\\mathbf{s}'|\\mathbf{s}, \\mathbf{a}) [r_0 +  \\gamma V_{\\pi_k}(\\mathbf{s}')] $$\n",
    "\n",
    "We can estimate $V_{\\pi_k}$ using an iterative approach similar to value iteration. The psuedocode is prsented below. Note that the only difference is the update rule.\n",
    "```{prf:algorithm} Policy-evaluation\n",
    ":label: simple-algorithm\n",
    "\n",
    "**Inputs** Given a MDP instance and policy $\\pi$.\n",
    "\n",
    "**Output** Compute the value function $V_{\\pi}$ \n",
    "\n",
    "1. Initialize an array $V(\\mathbf{s})=0$ for all $s\\in \\mathcal{S}$\n",
    "2. While not converged\n",
    "\tfor all state $\\mathbf{s}\\in \\mathcal{S}$\n",
    "    \n",
    "\t1. Update $V(\\mathbf{s}) \\leftarrow \\sum_{\\mathbf{a}\\in \\mathcal{A}} \\pi(\\mathbf{a}|\\mathbf{s})\\sum_{\\mathbf{s}'\\in \\mathcal{S}} p(\\mathbf{s}'|\\mathbf{s}, \\mathbf{a}) [r_0 +  \\gamma V_{\\pi}(\\mathbf{s}')]$\n",
    "```"
   ]
  },
  {
   "cell_type": "markdown",
   "id": "f27f17af",
   "metadata": {},
   "source": [
    "## Policy improvement (I)"
   ]
  },
  {
   "cell_type": "markdown",
   "id": "d01eb0f9",
   "metadata": {},
   "source": [
    "In the policy improvement step, we improve the current policy. We consider the state action fucntion $Q_{\\pi}(\\mathbf{s},\\mathbf{a})$. Intuitively, if there exists an action such that \n",
    "\n",
    "$$Q_{\\pi}(\\mathbf{s},\\mathbf{a})\\geq V_\\pi(\\mathbf{s})$$\n",
    "\n",
    "Then we get a better payoff by choosing action $\\mathbf{a}$ instead of action $\\pi(\\mathbf{s})$. This motivates us to update our policy greedily\n",
    "\n",
    "$$\n",
    "\\begin{align*}\n",
    "\\hat{\\pi}(\\mathbf{s}) &= \\underset{\\mathbf{a}}{\\text{argmax}}\\; Q_{\\pi}(\\mathbf{s},\\mathbf{a})\\\\\n",
    "&= \\underset{\\mathbf{a}}{\\text{argmax}}\\sum_{\\mathbf{s}'\\in \\mathcal{S}}p(\\mathbf{s}'|\\mathbf{s}, \\mathbf{a})[r+\\gamma V_{\\pi}(\\mathbf{s}')]\n",
    "\\end{align*}\n",
    "$$\n",
    "\n",
    "In the following theorem, we prove that the new policy is better, or as good as $\\pi$.\n",
    "````{prf:theorem} Policy improvement lemma\n",
    ":label: my-theorem\n",
    "\n",
    "Let $\\pi, \\hat{\\pi}$ be any pair of deterministic policy, if \n",
    "\n",
    "$$Q_{\\pi}(\\mathbf{s}, \\hat{\\pi}(\\mathbf{s}))\\geq V_{\\pi}(\\mathbf{s})\\hspace{5mm}\\text{for all}\\;\\mathbf{s}\\in \\mathcal{S}$$\n",
    "\n",
    "Then $V_{\\hat{\\pi}}(\\mathbf{s}) \\geq V_{\\pi}(\\mathbf{s})$ for all $\\mathbf{s}\\in \\mathcal{S}$. \n",
    "\n",
    "````\n",
    "\n",
    "````{prf:proof}\n",
    "\n",
    "Omitted for now.\n",
    "\n",
    "$$\n",
    "````"
   ]
  },
  {
   "cell_type": "markdown",
   "id": "17a5882c",
   "metadata": {},
   "source": [
    "## Policy iteration"
   ]
  },
  {
   "cell_type": "markdown",
   "id": "ab7babee",
   "metadata": {},
   "source": [
    "The olicy iteration algorithm contains a sequence of evaluation and improvement steps, starting from a random policy $\\pi_0$, we update the policy\n",
    "\n",
    "$$\\pi_0 \\xrightarrow{\\text{E}} q_{\\pi_0}  \\xrightarrow{\\text{I}} \\pi_1 \\xrightarrow{\\text{E}} ....$$\n",
    "\n",
    "Since, according to policy improvement lemma, $v_{\\pi_0}(\\mathbf{s})\\leq v_{\\pi_1}(\\mathbf{s})\\leq ...v_{\\pi_n}(\\mathbf{s})$, it follows that the algorithm eventually converges to the policy with the optimal value function $v^*$. The psuedocode for policy iteration is displayed below\n",
    "```{prf:algorithm} Policy iteration\n",
    ":label: simple-algorithm\n",
    "\n",
    "**Inputs** Given a MDP instance and initial policy $\\pi_0$\n",
    "\n",
    "**Output** Policy $\\pi^*$ with optimal value function $V^*$\n",
    "\n",
    "1. While not converged\n",
    "    \n",
    "\t1. Compute $V_{\\pi}(s)$ using policy evaluation algorithm\n",
    "    2. Update $\\pi$ using policy improvement algorithm\n",
    "```"
   ]
  },
  {
   "cell_type": "markdown",
   "id": "c152a88d",
   "metadata": {},
   "source": [
    "## Policy iteration Implementation"
   ]
  },
  {
   "cell_type": "markdown",
   "id": "ae46c68d",
   "metadata": {},
   "source": [
    "We now implement the policy iteration algorithm and apply it on the same GridWorld enviroment as before. "
   ]
  },
  {
   "cell_type": "code",
   "execution_count": 1,
   "id": "b1a9150b",
   "metadata": {
    "tags": [
     "hide-cell"
    ]
   },
   "outputs": [],
   "source": [
    "import numpy as np\n",
    "import matplotlib.pyplot as plt\n",
    "from GridWorld import *\n",
    "\n",
    "np.random.seed(0)"
   ]
  },
  {
   "cell_type": "code",
   "execution_count": 2,
   "id": "c9ff2b1f",
   "metadata": {},
   "outputs": [],
   "source": [
    "def policy_evaluation(grid_world: GridWorld, policy: Policy, max_iter: int, gamma: float=1.0):\n",
    "    \"\"\"\n",
    "    Performs the policy evaluation step\n",
    "    \"\"\"\n",
    "    height, width = grid_world.height, grid_world.width \n",
    "    values = np.zeros((width, height))\n",
    "    for i in range(max_iter):\n",
    "        for state in grid_world.get_states():\n",
    "            _, successors = grid_world.get_available_actions(state)\n",
    "            value = 0\n",
    "            action = policy[state]\n",
    "            prob_dist = grid_world.get_transition_prob(state, action)\n",
    "            for successor, prob in prob_dist.items():\n",
    "                reward = grid_world.get_reward(state, successor)\n",
    "                value += prob * (reward + gamma * values[successor[0]][successor[1]])\n",
    "            values[state[0]][state[1]] = value\n",
    "    return values\n",
    "\n",
    "def policy_improvement(grid_world: GridWorld, values: dict, gamma: float):\n",
    "    \"\"\"\n",
    "    Performs a policy improvement step\n",
    "    \"\"\"\n",
    "    height, width = grid_world.height, grid_world.width \n",
    "    policy = dict()\n",
    "    for state in grid_world.get_states():\n",
    "        available_actions, successors = grid_world.get_available_actions(state)\n",
    "        q_value = dict()\n",
    "        for action in available_actions:\n",
    "            value = 0\n",
    "            prob_dist = grid_world.get_transition_prob(state, action)\n",
    "            for successor, prob in prob_dist.items():\n",
    "                reward = grid_world.get_reward(state, successor)\n",
    "                value += prob * (reward + gamma * values[successor[0]][successor[1]])\n",
    "            q_value[action] = value\n",
    "        policy[state] = max(q_value, key=q_value.get) if len(q_value) > 0 else None\n",
    "    return policy\n",
    "\n",
    "def policy_iteration(grid_world: GridWorld, max_iter: int, gamma: float):\n",
    "    \"\"\"\n",
    "    Performs policy iteration\n",
    "    \"\"\"\n",
    "    policy = get_random_policy(grid_world)\n",
    "    history = [policy]\n",
    "    for i in range(max_iter):\n",
    "        values = policy_evaluation(grid_world, policy, max_iter, gamma)\n",
    "        policy = policy_improvement(grid_world, values, gamma)\n",
    "        history.append(policy)\n",
    "    return policy, history"
   ]
  },
  {
   "cell_type": "code",
   "execution_count": null,
   "id": "78c11fbe",
   "metadata": {
    "tags": [
     "remove-input"
    ]
   },
   "outputs": [],
   "source": [
    "def get_random_policy(grid_world: GridWorld):\n",
    "    policy = dict()\n",
    "    states = grid_world.get_states()\n",
    "    for state in states:\n",
    "        available_actions, _ = grid_world.get_available_actions(state)\n",
    "        random_idx = np.random.choice(np.arange(len(available_actions)))\n",
    "        policy[state] = available_actions[random_idx]\n",
    "    return policy"
   ]
  },
  {
   "cell_type": "markdown",
   "id": "2a8afd43",
   "metadata": {},
   "source": [
    "We follow the same setup as before. We ran the policy iteration algorithm for $10$ iterations. We show the learned policy at iteration $0, 4,$ and $9$ below. Note that the algorithm learned the same policy as before. "
   ]
  },
  {
   "cell_type": "code",
   "execution_count": 6,
   "id": "e49bef3d",
   "metadata": {},
   "outputs": [],
   "source": [
    "height = 5\n",
    "width = 5\n",
    "exits = {'good_exit': (3, 1), 'bad_exit': (3, 2)}\n",
    "walls = [(1, 2)]\n",
    "rewards = {'living_reward': -0.1, 'win_reward': 1, 'lose_reward': -1}\n",
    "init_pos = None\n",
    "\n",
    "grid_world = GridWorld(height, width, exits, walls, rewards, init_pos)\n",
    "policy, history = policy_iteration(grid_world, max_iter=10, gamma=0.1)"
   ]
  },
  {
   "cell_type": "markdown",
   "id": "4458f242",
   "metadata": {},
   "source": [
    "<span style=\"font-size:20px; font-weight:bold;\">Iteration 0</span>"
   ]
  },
  {
   "cell_type": "code",
   "execution_count": 8,
   "id": "d28fa9f4",
   "metadata": {
    "tags": [
     "remove-input"
    ]
   },
   "outputs": [
    {
     "data": {
      "image/png": "[encoded data removed]",
      "text/plain": [
       "<Figure size 500x500 with 1 Axes>"
      ]
     },
     "metadata": {},
     "output_type": "display_data"
    }
   ],
   "source": [
    "display_policy(grid_world, history[0])"
   ]
  },
  {
   "cell_type": "markdown",
   "id": "6f5ab513",
   "metadata": {},
   "source": [
    "<span style=\"font-size:20px; font-weight:bold;\">Iteration 4</span>"
   ]
  },
  {
   "cell_type": "code",
   "execution_count": 9,
   "id": "3b2e958c",
   "metadata": {
    "tags": [
     "remove-input"
    ]
   },
   "outputs": [
    {
     "data": {
      "image/png": "[encoded data removed]",
      "text/plain": [
       "<Figure size 500x500 with 1 Axes>"
      ]
     },
     "metadata": {},
     "output_type": "display_data"
    }
   ],
   "source": [
    "display_policy(grid_world, history[2])"
   ]
  },
  {
   "cell_type": "markdown",
   "id": "b519feb7",
   "metadata": {},
   "source": [
    "<span style=\"font-size:20px; font-weight:bold;\">Iteration 9</span>"
   ]
  },
  {
   "cell_type": "code",
   "execution_count": 10,
   "id": "4d175bdb",
   "metadata": {
    "tags": [
     "remove-input"
    ]
   },
   "outputs": [
    {
     "data": {
      "image/png": "[encoded data removed]",
      "text/plain": [
       "<Figure size 500x500 with 1 Axes>"
      ]
     },
     "metadata": {},
     "output_type": "display_data"
    }
   ],
   "source": [
    "display_policy(grid_world, history[-1])"
   ]
  }
 ],
 "metadata": {
  "celltoolbar": "Tags",
  "kernelspec": {
   "display_name": "Python 3 (ipykernel)",
   "language": "python",
   "name": "python3"
  },
  "language_info": {
   "codemirror_mode": {
    "name": "ipython",
    "version": 3
   },
   "file_extension": ".py",
   "mimetype": "text/x-python",
   "name": "python",
   "nbconvert_exporter": "python",
   "pygments_lexer": "ipython3",
   "version": "3.10.9"
  }
 },
 "nbformat": 4,
 "nbformat_minor": 5
}